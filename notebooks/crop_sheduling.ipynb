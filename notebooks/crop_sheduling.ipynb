{
 "cells": [
  {
   "cell_type": "code",
   "execution_count": 6,
   "metadata": {},
   "outputs": [
    {
     "name": "stderr",
     "output_type": "stream",
     "text": [
      "Scheduling ...\n"
     ]
    },
    {
     "name": "stderr",
     "output_type": "stream",
     "text": [
      "Scheduler find feasible solution!\n",
      "Solution is optimal!\n"
     ]
    },
    {
     "name": "stdout",
     "output_type": "stream",
     "text": [
      "--- Execution takes 24.146020889282227 seconds ---\n"
     ]
    }
   ],
   "source": [
    "import sys\n",
    "sys.path.append('/home/marnugue/Documents/crop_scheduling_optimization')\n",
    "from src.models.py_crop_engine import PYCropEngine\n",
    "engine = PYCropEngine()\n",
    "\n",
    "import time\n",
    "start_time = time.time()\n",
    "engine.execute(time_limit=30,\n",
    "               solution_path=\"./\",\n",
    "               solver='scip')\n",
    "print(\"--- Execution takes %s seconds ---\" % (time.time() - start_time))"
   ]
  },
  {
   "cell_type": "code",
   "execution_count": 7,
   "metadata": {},
   "outputs": [],
   "source": [
    "import pandas as pd\n",
    "import plotly.express as px\n",
    "from datetime import datetime, timedelta\n",
    "\n",
    "pd.options.mode.copy_on_write = True\n",
    "\n",
    "START_DATE = datetime(2023,11,2)"
   ]
  },
  {
   "cell_type": "code",
   "execution_count": 8,
   "metadata": {},
   "outputs": [],
   "source": [
    "df = pd.read_csv(\"./solution.csv\", header=[0,1], index_col=0)\n",
    "\n",
    "df_list = []\n",
    "df = df.iloc[1:,:]\n",
    "for col in df.columns:\n",
    "    if (df[col] == 0).all():\n",
    "        df.drop(col,axis=1,inplace=True)\n",
    "        \n",
    "def get_vegetable(row):\n",
    "    l = [idx for idx in row.index if row[idx]]\n",
    "    if l:\n",
    "        return l[0]\n",
    "    else:\n",
    "        return None\n",
    "\n",
    "for pos in df.columns.get_level_values(level=0):\n",
    "    df_pos = df[pos]\n",
    "    df_pos['Vegetable'] = df_pos.apply(lambda row: get_vegetable(row), axis=1)\n",
    "    df_pos['Event'] = (df_pos != df_pos.shift(1)).T.any()\n",
    "    df_pos['Event'] = df_pos['Event'].cumsum()\n",
    "    df_start = df_pos.reset_index()[['Time','Event']].groupby('Event').first()\n",
    "    df_end = df_pos.reset_index()[['Time','Event']].groupby('Event').last()\n",
    "    df_start_end = pd.merge(df_start,\n",
    "                        df_end,\n",
    "                        left_index=True,\n",
    "                        right_index=True,\n",
    "                        how='inner',\n",
    "                        suffixes=('_start','_end'))\n",
    "    df_start_end['Time_end'] = df_start_end['Time_end'] + 1\n",
    "    df_start_end = df_start_end.apply(lambda row: START_DATE + pd.to_timedelta(row,'d'))\n",
    "    df_pos = pd.merge(df_pos,\n",
    "                    df_start_end,\n",
    "                    left_on='Event',\n",
    "                    right_index=True,\n",
    "                    how='inner')\n",
    "    df_pos.drop_duplicates(inplace=True)\n",
    "    df_pos['Pos'] = pos\n",
    "    df_list.append(df_pos[['Pos','Vegetable','Time_start','Time_end']])\n",
    "df = pd.concat(df_list,ignore_index=True)"
   ]
  },
  {
   "cell_type": "code",
   "execution_count": 9,
   "metadata": {},
   "outputs": [
    {
     "data": {
      "text/html": [
       "<div>\n",
       "<style scoped>\n",
       "    .dataframe tbody tr th:only-of-type {\n",
       "        vertical-align: middle;\n",
       "    }\n",
       "\n",
       "    .dataframe tbody tr th {\n",
       "        vertical-align: top;\n",
       "    }\n",
       "\n",
       "    .dataframe thead th {\n",
       "        text-align: right;\n",
       "    }\n",
       "</style>\n",
       "<table border=\"1\" class=\"dataframe\">\n",
       "  <thead>\n",
       "    <tr style=\"text-align: right;\">\n",
       "      <th>Vegetable</th>\n",
       "      <th>Pos</th>\n",
       "      <th>Vegetable</th>\n",
       "      <th>Time_start</th>\n",
       "      <th>Time_end</th>\n",
       "    </tr>\n",
       "  </thead>\n",
       "  <tbody>\n",
       "    <tr>\n",
       "      <th>0</th>\n",
       "      <td>P0</td>\n",
       "      <td>H1</td>\n",
       "      <td>2023-11-03</td>\n",
       "      <td>2023-11-10</td>\n",
       "    </tr>\n",
       "    <tr>\n",
       "      <th>1</th>\n",
       "      <td>P0</td>\n",
       "      <td>H2</td>\n",
       "      <td>2023-11-10</td>\n",
       "      <td>2023-11-17</td>\n",
       "    </tr>\n",
       "    <tr>\n",
       "      <th>2</th>\n",
       "      <td>P0</td>\n",
       "      <td>H1</td>\n",
       "      <td>2023-11-17</td>\n",
       "      <td>2023-11-22</td>\n",
       "    </tr>\n",
       "    <tr>\n",
       "      <th>3</th>\n",
       "      <td>P0</td>\n",
       "      <td>H3</td>\n",
       "      <td>2023-11-22</td>\n",
       "      <td>2023-11-26</td>\n",
       "    </tr>\n",
       "    <tr>\n",
       "      <th>4</th>\n",
       "      <td>P0</td>\n",
       "      <td>H2</td>\n",
       "      <td>2023-11-26</td>\n",
       "      <td>2023-11-29</td>\n",
       "    </tr>\n",
       "    <tr>\n",
       "      <th>...</th>\n",
       "      <td>...</td>\n",
       "      <td>...</td>\n",
       "      <td>...</td>\n",
       "      <td>...</td>\n",
       "    </tr>\n",
       "    <tr>\n",
       "      <th>88</th>\n",
       "      <td>P3</td>\n",
       "      <td>H3</td>\n",
       "      <td>2023-11-18</td>\n",
       "      <td>2023-11-20</td>\n",
       "    </tr>\n",
       "    <tr>\n",
       "      <th>89</th>\n",
       "      <td>P3</td>\n",
       "      <td>H2</td>\n",
       "      <td>2023-11-20</td>\n",
       "      <td>2023-11-23</td>\n",
       "    </tr>\n",
       "    <tr>\n",
       "      <th>90</th>\n",
       "      <td>P3</td>\n",
       "      <td>H3</td>\n",
       "      <td>2023-11-23</td>\n",
       "      <td>2023-11-25</td>\n",
       "    </tr>\n",
       "    <tr>\n",
       "      <th>91</th>\n",
       "      <td>P3</td>\n",
       "      <td>H2</td>\n",
       "      <td>2023-11-25</td>\n",
       "      <td>2023-11-28</td>\n",
       "    </tr>\n",
       "    <tr>\n",
       "      <th>92</th>\n",
       "      <td>P3</td>\n",
       "      <td>H1</td>\n",
       "      <td>2023-11-28</td>\n",
       "      <td>2023-12-03</td>\n",
       "    </tr>\n",
       "  </tbody>\n",
       "</table>\n",
       "<p>93 rows × 4 columns</p>\n",
       "</div>"
      ],
      "text/plain": [
       "Vegetable Pos Vegetable Time_start   Time_end\n",
       "0          P0        H1 2023-11-03 2023-11-10\n",
       "1          P0        H2 2023-11-10 2023-11-17\n",
       "2          P0        H1 2023-11-17 2023-11-22\n",
       "3          P0        H3 2023-11-22 2023-11-26\n",
       "4          P0        H2 2023-11-26 2023-11-29\n",
       "..         ..       ...        ...        ...\n",
       "88         P3        H3 2023-11-18 2023-11-20\n",
       "89         P3        H2 2023-11-20 2023-11-23\n",
       "90         P3        H3 2023-11-23 2023-11-25\n",
       "91         P3        H2 2023-11-25 2023-11-28\n",
       "92         P3        H1 2023-11-28 2023-12-03\n",
       "\n",
       "[93 rows x 4 columns]"
      ]
     },
     "execution_count": 9,
     "metadata": {},
     "output_type": "execute_result"
    }
   ],
   "source": [
    "df"
   ]
  },
  {
   "cell_type": "code",
   "execution_count": 10,
   "metadata": {},
   "outputs": [
    {
     "data": {
      "application/vnd.plotly.v1+json": {
       "config": {
        "plotlyServerURL": "https://plot.ly"
       },
       "data": [
        {
         "alignmentgroup": "True",
         "base": [
          "2023-11-03T00:00:00",
          "2023-11-17T00:00:00",
          "2023-12-01T00:00:00",
          "2023-11-03T00:00:00",
          "2023-11-17T00:00:00",
          "2023-12-01T00:00:00",
          "2023-11-03T00:00:00",
          "2023-11-17T00:00:00",
          "2023-12-01T00:00:00",
          "2023-11-06T00:00:00",
          "2023-11-29T00:00:00",
          "2023-11-06T00:00:00",
          "2023-11-29T00:00:00",
          "2023-11-06T00:00:00",
          "2023-11-29T00:00:00",
          "2023-11-03T00:00:00",
          "2023-11-11T00:00:00",
          "2023-11-22T00:00:00",
          "2023-11-03T00:00:00",
          "2023-11-11T00:00:00",
          "2023-11-22T00:00:00",
          "2023-11-03T00:00:00",
          "2023-11-11T00:00:00",
          "2023-11-22T00:00:00",
          "2023-11-07T00:00:00",
          "2023-11-28T00:00:00",
          "2023-11-07T00:00:00",
          "2023-11-28T00:00:00",
          "2023-11-07T00:00:00",
          "2023-11-28T00:00:00"
         ],
         "hovertemplate": "Vegetable=H1<br>Time_start=%{base}<br>Time_end=%{x}<br>Pos=%{y}<extra></extra>",
         "legendgroup": "H1",
         "marker": {
          "color": "#636efa",
          "pattern": {
           "shape": ""
          }
         },
         "name": "H1",
         "offsetgroup": "H1",
         "orientation": "h",
         "showlegend": true,
         "textposition": "auto",
         "type": "bar",
         "x": [
          604800000,
          432000000,
          172800000,
          604800000,
          432000000,
          172800000,
          604800000,
          432000000,
          172800000,
          777600000,
          345600000,
          777600000,
          345600000,
          777600000,
          345600000,
          432000000,
          432000000,
          950400000,
          432000000,
          432000000,
          950400000,
          432000000,
          432000000,
          950400000,
          604800000,
          432000000,
          604800000,
          432000000,
          604800000,
          432000000
         ],
         "xaxis": "x",
         "y": [
          "P0",
          "P0",
          "P0",
          "P0",
          "P0",
          "P0",
          "P0",
          "P0",
          "P0",
          "P1",
          "P1",
          "P1",
          "P1",
          "P1",
          "P1",
          "P2",
          "P2",
          "P2",
          "P2",
          "P2",
          "P2",
          "P2",
          "P2",
          "P2",
          "P3",
          "P3",
          "P3",
          "P3",
          "P3",
          "P3"
         ],
         "yaxis": "y"
        },
        {
         "alignmentgroup": "True",
         "base": [
          "2023-11-10T00:00:00",
          "2023-11-26T00:00:00",
          "2023-11-10T00:00:00",
          "2023-11-26T00:00:00",
          "2023-11-10T00:00:00",
          "2023-11-26T00:00:00",
          "2023-11-15T00:00:00",
          "2023-11-21T00:00:00",
          "2023-11-15T00:00:00",
          "2023-11-21T00:00:00",
          "2023-11-15T00:00:00",
          "2023-11-21T00:00:00",
          "2023-11-08T00:00:00",
          "2023-11-16T00:00:00",
          "2023-11-08T00:00:00",
          "2023-11-16T00:00:00",
          "2023-11-08T00:00:00",
          "2023-11-16T00:00:00",
          "2023-11-14T00:00:00",
          "2023-11-20T00:00:00",
          "2023-11-25T00:00:00",
          "2023-11-14T00:00:00",
          "2023-11-20T00:00:00",
          "2023-11-25T00:00:00",
          "2023-11-14T00:00:00",
          "2023-11-20T00:00:00",
          "2023-11-25T00:00:00"
         ],
         "hovertemplate": "Vegetable=H2<br>Time_start=%{base}<br>Time_end=%{x}<br>Pos=%{y}<extra></extra>",
         "legendgroup": "H2",
         "marker": {
          "color": "#EF553B",
          "pattern": {
           "shape": ""
          }
         },
         "name": "H2",
         "offsetgroup": "H2",
         "orientation": "h",
         "showlegend": true,
         "textposition": "auto",
         "type": "bar",
         "x": [
          604800000,
          259200000,
          604800000,
          259200000,
          604800000,
          259200000,
          345600000,
          432000000,
          345600000,
          432000000,
          345600000,
          432000000,
          259200000,
          345600000,
          259200000,
          345600000,
          259200000,
          345600000,
          345600000,
          259200000,
          259200000,
          345600000,
          259200000,
          259200000,
          345600000,
          259200000,
          259200000
         ],
         "xaxis": "x",
         "y": [
          "P0",
          "P0",
          "P0",
          "P0",
          "P0",
          "P0",
          "P1",
          "P1",
          "P1",
          "P1",
          "P1",
          "P1",
          "P2",
          "P2",
          "P2",
          "P2",
          "P2",
          "P2",
          "P3",
          "P3",
          "P3",
          "P3",
          "P3",
          "P3",
          "P3",
          "P3",
          "P3"
         ],
         "yaxis": "y"
        },
        {
         "alignmentgroup": "True",
         "base": [
          "2023-11-22T00:00:00",
          "2023-11-29T00:00:00",
          "2023-11-22T00:00:00",
          "2023-11-29T00:00:00",
          "2023-11-22T00:00:00",
          "2023-11-29T00:00:00",
          "2023-11-03T00:00:00",
          "2023-11-19T00:00:00",
          "2023-11-26T00:00:00",
          "2023-11-03T00:00:00",
          "2023-11-19T00:00:00",
          "2023-11-26T00:00:00",
          "2023-11-03T00:00:00",
          "2023-11-19T00:00:00",
          "2023-11-26T00:00:00",
          "2023-11-20T00:00:00",
          "2023-11-20T00:00:00",
          "2023-11-20T00:00:00",
          "2023-11-06T00:00:00",
          "2023-11-18T00:00:00",
          "2023-11-23T00:00:00",
          "2023-11-06T00:00:00",
          "2023-11-18T00:00:00",
          "2023-11-23T00:00:00",
          "2023-11-06T00:00:00",
          "2023-11-18T00:00:00",
          "2023-11-23T00:00:00"
         ],
         "hovertemplate": "Vegetable=H3<br>Time_start=%{base}<br>Time_end=%{x}<br>Pos=%{y}<extra></extra>",
         "legendgroup": "H3",
         "marker": {
          "color": "#00cc96",
          "pattern": {
           "shape": ""
          }
         },
         "name": "H3",
         "offsetgroup": "H3",
         "orientation": "h",
         "showlegend": true,
         "textposition": "auto",
         "type": "bar",
         "x": [
          345600000,
          172800000,
          345600000,
          172800000,
          345600000,
          172800000,
          259200000,
          172800000,
          259200000,
          259200000,
          172800000,
          259200000,
          259200000,
          172800000,
          259200000,
          172800000,
          172800000,
          172800000,
          86400000,
          172800000,
          172800000,
          86400000,
          172800000,
          172800000,
          86400000,
          172800000,
          172800000
         ],
         "xaxis": "x",
         "y": [
          "P0",
          "P0",
          "P0",
          "P0",
          "P0",
          "P0",
          "P1",
          "P1",
          "P1",
          "P1",
          "P1",
          "P1",
          "P1",
          "P1",
          "P1",
          "P2",
          "P2",
          "P2",
          "P3",
          "P3",
          "P3",
          "P3",
          "P3",
          "P3",
          "P3",
          "P3",
          "P3"
         ],
         "yaxis": "y"
        }
       ],
       "layout": {
        "barmode": "overlay",
        "legend": {
         "title": {
          "text": "Vegetable"
         },
         "tracegroupgap": 0
        },
        "margin": {
         "t": 60
        },
        "template": {
         "data": {
          "bar": [
           {
            "error_x": {
             "color": "#2a3f5f"
            },
            "error_y": {
             "color": "#2a3f5f"
            },
            "marker": {
             "line": {
              "color": "#E5ECF6",
              "width": 0.5
             },
             "pattern": {
              "fillmode": "overlay",
              "size": 10,
              "solidity": 0.2
             }
            },
            "type": "bar"
           }
          ],
          "barpolar": [
           {
            "marker": {
             "line": {
              "color": "#E5ECF6",
              "width": 0.5
             },
             "pattern": {
              "fillmode": "overlay",
              "size": 10,
              "solidity": 0.2
             }
            },
            "type": "barpolar"
           }
          ],
          "carpet": [
           {
            "aaxis": {
             "endlinecolor": "#2a3f5f",
             "gridcolor": "white",
             "linecolor": "white",
             "minorgridcolor": "white",
             "startlinecolor": "#2a3f5f"
            },
            "baxis": {
             "endlinecolor": "#2a3f5f",
             "gridcolor": "white",
             "linecolor": "white",
             "minorgridcolor": "white",
             "startlinecolor": "#2a3f5f"
            },
            "type": "carpet"
           }
          ],
          "choropleth": [
           {
            "colorbar": {
             "outlinewidth": 0,
             "ticks": ""
            },
            "type": "choropleth"
           }
          ],
          "contour": [
           {
            "colorbar": {
             "outlinewidth": 0,
             "ticks": ""
            },
            "colorscale": [
             [
              0,
              "#0d0887"
             ],
             [
              0.1111111111111111,
              "#46039f"
             ],
             [
              0.2222222222222222,
              "#7201a8"
             ],
             [
              0.3333333333333333,
              "#9c179e"
             ],
             [
              0.4444444444444444,
              "#bd3786"
             ],
             [
              0.5555555555555556,
              "#d8576b"
             ],
             [
              0.6666666666666666,
              "#ed7953"
             ],
             [
              0.7777777777777778,
              "#fb9f3a"
             ],
             [
              0.8888888888888888,
              "#fdca26"
             ],
             [
              1,
              "#f0f921"
             ]
            ],
            "type": "contour"
           }
          ],
          "contourcarpet": [
           {
            "colorbar": {
             "outlinewidth": 0,
             "ticks": ""
            },
            "type": "contourcarpet"
           }
          ],
          "heatmap": [
           {
            "colorbar": {
             "outlinewidth": 0,
             "ticks": ""
            },
            "colorscale": [
             [
              0,
              "#0d0887"
             ],
             [
              0.1111111111111111,
              "#46039f"
             ],
             [
              0.2222222222222222,
              "#7201a8"
             ],
             [
              0.3333333333333333,
              "#9c179e"
             ],
             [
              0.4444444444444444,
              "#bd3786"
             ],
             [
              0.5555555555555556,
              "#d8576b"
             ],
             [
              0.6666666666666666,
              "#ed7953"
             ],
             [
              0.7777777777777778,
              "#fb9f3a"
             ],
             [
              0.8888888888888888,
              "#fdca26"
             ],
             [
              1,
              "#f0f921"
             ]
            ],
            "type": "heatmap"
           }
          ],
          "heatmapgl": [
           {
            "colorbar": {
             "outlinewidth": 0,
             "ticks": ""
            },
            "colorscale": [
             [
              0,
              "#0d0887"
             ],
             [
              0.1111111111111111,
              "#46039f"
             ],
             [
              0.2222222222222222,
              "#7201a8"
             ],
             [
              0.3333333333333333,
              "#9c179e"
             ],
             [
              0.4444444444444444,
              "#bd3786"
             ],
             [
              0.5555555555555556,
              "#d8576b"
             ],
             [
              0.6666666666666666,
              "#ed7953"
             ],
             [
              0.7777777777777778,
              "#fb9f3a"
             ],
             [
              0.8888888888888888,
              "#fdca26"
             ],
             [
              1,
              "#f0f921"
             ]
            ],
            "type": "heatmapgl"
           }
          ],
          "histogram": [
           {
            "marker": {
             "pattern": {
              "fillmode": "overlay",
              "size": 10,
              "solidity": 0.2
             }
            },
            "type": "histogram"
           }
          ],
          "histogram2d": [
           {
            "colorbar": {
             "outlinewidth": 0,
             "ticks": ""
            },
            "colorscale": [
             [
              0,
              "#0d0887"
             ],
             [
              0.1111111111111111,
              "#46039f"
             ],
             [
              0.2222222222222222,
              "#7201a8"
             ],
             [
              0.3333333333333333,
              "#9c179e"
             ],
             [
              0.4444444444444444,
              "#bd3786"
             ],
             [
              0.5555555555555556,
              "#d8576b"
             ],
             [
              0.6666666666666666,
              "#ed7953"
             ],
             [
              0.7777777777777778,
              "#fb9f3a"
             ],
             [
              0.8888888888888888,
              "#fdca26"
             ],
             [
              1,
              "#f0f921"
             ]
            ],
            "type": "histogram2d"
           }
          ],
          "histogram2dcontour": [
           {
            "colorbar": {
             "outlinewidth": 0,
             "ticks": ""
            },
            "colorscale": [
             [
              0,
              "#0d0887"
             ],
             [
              0.1111111111111111,
              "#46039f"
             ],
             [
              0.2222222222222222,
              "#7201a8"
             ],
             [
              0.3333333333333333,
              "#9c179e"
             ],
             [
              0.4444444444444444,
              "#bd3786"
             ],
             [
              0.5555555555555556,
              "#d8576b"
             ],
             [
              0.6666666666666666,
              "#ed7953"
             ],
             [
              0.7777777777777778,
              "#fb9f3a"
             ],
             [
              0.8888888888888888,
              "#fdca26"
             ],
             [
              1,
              "#f0f921"
             ]
            ],
            "type": "histogram2dcontour"
           }
          ],
          "mesh3d": [
           {
            "colorbar": {
             "outlinewidth": 0,
             "ticks": ""
            },
            "type": "mesh3d"
           }
          ],
          "parcoords": [
           {
            "line": {
             "colorbar": {
              "outlinewidth": 0,
              "ticks": ""
             }
            },
            "type": "parcoords"
           }
          ],
          "pie": [
           {
            "automargin": true,
            "type": "pie"
           }
          ],
          "scatter": [
           {
            "fillpattern": {
             "fillmode": "overlay",
             "size": 10,
             "solidity": 0.2
            },
            "type": "scatter"
           }
          ],
          "scatter3d": [
           {
            "line": {
             "colorbar": {
              "outlinewidth": 0,
              "ticks": ""
             }
            },
            "marker": {
             "colorbar": {
              "outlinewidth": 0,
              "ticks": ""
             }
            },
            "type": "scatter3d"
           }
          ],
          "scattercarpet": [
           {
            "marker": {
             "colorbar": {
              "outlinewidth": 0,
              "ticks": ""
             }
            },
            "type": "scattercarpet"
           }
          ],
          "scattergeo": [
           {
            "marker": {
             "colorbar": {
              "outlinewidth": 0,
              "ticks": ""
             }
            },
            "type": "scattergeo"
           }
          ],
          "scattergl": [
           {
            "marker": {
             "colorbar": {
              "outlinewidth": 0,
              "ticks": ""
             }
            },
            "type": "scattergl"
           }
          ],
          "scattermapbox": [
           {
            "marker": {
             "colorbar": {
              "outlinewidth": 0,
              "ticks": ""
             }
            },
            "type": "scattermapbox"
           }
          ],
          "scatterpolar": [
           {
            "marker": {
             "colorbar": {
              "outlinewidth": 0,
              "ticks": ""
             }
            },
            "type": "scatterpolar"
           }
          ],
          "scatterpolargl": [
           {
            "marker": {
             "colorbar": {
              "outlinewidth": 0,
              "ticks": ""
             }
            },
            "type": "scatterpolargl"
           }
          ],
          "scatterternary": [
           {
            "marker": {
             "colorbar": {
              "outlinewidth": 0,
              "ticks": ""
             }
            },
            "type": "scatterternary"
           }
          ],
          "surface": [
           {
            "colorbar": {
             "outlinewidth": 0,
             "ticks": ""
            },
            "colorscale": [
             [
              0,
              "#0d0887"
             ],
             [
              0.1111111111111111,
              "#46039f"
             ],
             [
              0.2222222222222222,
              "#7201a8"
             ],
             [
              0.3333333333333333,
              "#9c179e"
             ],
             [
              0.4444444444444444,
              "#bd3786"
             ],
             [
              0.5555555555555556,
              "#d8576b"
             ],
             [
              0.6666666666666666,
              "#ed7953"
             ],
             [
              0.7777777777777778,
              "#fb9f3a"
             ],
             [
              0.8888888888888888,
              "#fdca26"
             ],
             [
              1,
              "#f0f921"
             ]
            ],
            "type": "surface"
           }
          ],
          "table": [
           {
            "cells": {
             "fill": {
              "color": "#EBF0F8"
             },
             "line": {
              "color": "white"
             }
            },
            "header": {
             "fill": {
              "color": "#C8D4E3"
             },
             "line": {
              "color": "white"
             }
            },
            "type": "table"
           }
          ]
         },
         "layout": {
          "annotationdefaults": {
           "arrowcolor": "#2a3f5f",
           "arrowhead": 0,
           "arrowwidth": 1
          },
          "autotypenumbers": "strict",
          "coloraxis": {
           "colorbar": {
            "outlinewidth": 0,
            "ticks": ""
           }
          },
          "colorscale": {
           "diverging": [
            [
             0,
             "#8e0152"
            ],
            [
             0.1,
             "#c51b7d"
            ],
            [
             0.2,
             "#de77ae"
            ],
            [
             0.3,
             "#f1b6da"
            ],
            [
             0.4,
             "#fde0ef"
            ],
            [
             0.5,
             "#f7f7f7"
            ],
            [
             0.6,
             "#e6f5d0"
            ],
            [
             0.7,
             "#b8e186"
            ],
            [
             0.8,
             "#7fbc41"
            ],
            [
             0.9,
             "#4d9221"
            ],
            [
             1,
             "#276419"
            ]
           ],
           "sequential": [
            [
             0,
             "#0d0887"
            ],
            [
             0.1111111111111111,
             "#46039f"
            ],
            [
             0.2222222222222222,
             "#7201a8"
            ],
            [
             0.3333333333333333,
             "#9c179e"
            ],
            [
             0.4444444444444444,
             "#bd3786"
            ],
            [
             0.5555555555555556,
             "#d8576b"
            ],
            [
             0.6666666666666666,
             "#ed7953"
            ],
            [
             0.7777777777777778,
             "#fb9f3a"
            ],
            [
             0.8888888888888888,
             "#fdca26"
            ],
            [
             1,
             "#f0f921"
            ]
           ],
           "sequentialminus": [
            [
             0,
             "#0d0887"
            ],
            [
             0.1111111111111111,
             "#46039f"
            ],
            [
             0.2222222222222222,
             "#7201a8"
            ],
            [
             0.3333333333333333,
             "#9c179e"
            ],
            [
             0.4444444444444444,
             "#bd3786"
            ],
            [
             0.5555555555555556,
             "#d8576b"
            ],
            [
             0.6666666666666666,
             "#ed7953"
            ],
            [
             0.7777777777777778,
             "#fb9f3a"
            ],
            [
             0.8888888888888888,
             "#fdca26"
            ],
            [
             1,
             "#f0f921"
            ]
           ]
          },
          "colorway": [
           "#636efa",
           "#EF553B",
           "#00cc96",
           "#ab63fa",
           "#FFA15A",
           "#19d3f3",
           "#FF6692",
           "#B6E880",
           "#FF97FF",
           "#FECB52"
          ],
          "font": {
           "color": "#2a3f5f"
          },
          "geo": {
           "bgcolor": "white",
           "lakecolor": "white",
           "landcolor": "#E5ECF6",
           "showlakes": true,
           "showland": true,
           "subunitcolor": "white"
          },
          "hoverlabel": {
           "align": "left"
          },
          "hovermode": "closest",
          "mapbox": {
           "style": "light"
          },
          "paper_bgcolor": "white",
          "plot_bgcolor": "#E5ECF6",
          "polar": {
           "angularaxis": {
            "gridcolor": "white",
            "linecolor": "white",
            "ticks": ""
           },
           "bgcolor": "#E5ECF6",
           "radialaxis": {
            "gridcolor": "white",
            "linecolor": "white",
            "ticks": ""
           }
          },
          "scene": {
           "xaxis": {
            "backgroundcolor": "#E5ECF6",
            "gridcolor": "white",
            "gridwidth": 2,
            "linecolor": "white",
            "showbackground": true,
            "ticks": "",
            "zerolinecolor": "white"
           },
           "yaxis": {
            "backgroundcolor": "#E5ECF6",
            "gridcolor": "white",
            "gridwidth": 2,
            "linecolor": "white",
            "showbackground": true,
            "ticks": "",
            "zerolinecolor": "white"
           },
           "zaxis": {
            "backgroundcolor": "#E5ECF6",
            "gridcolor": "white",
            "gridwidth": 2,
            "linecolor": "white",
            "showbackground": true,
            "ticks": "",
            "zerolinecolor": "white"
           }
          },
          "shapedefaults": {
           "line": {
            "color": "#2a3f5f"
           }
          },
          "ternary": {
           "aaxis": {
            "gridcolor": "white",
            "linecolor": "white",
            "ticks": ""
           },
           "baxis": {
            "gridcolor": "white",
            "linecolor": "white",
            "ticks": ""
           },
           "bgcolor": "#E5ECF6",
           "caxis": {
            "gridcolor": "white",
            "linecolor": "white",
            "ticks": ""
           }
          },
          "title": {
           "x": 0.05
          },
          "xaxis": {
           "automargin": true,
           "gridcolor": "white",
           "linecolor": "white",
           "ticks": "",
           "title": {
            "standoff": 15
           },
           "zerolinecolor": "white",
           "zerolinewidth": 2
          },
          "yaxis": {
           "automargin": true,
           "gridcolor": "white",
           "linecolor": "white",
           "ticks": "",
           "title": {
            "standoff": 15
           },
           "zerolinecolor": "white",
           "zerolinewidth": 2
          }
         }
        },
        "xaxis": {
         "anchor": "y",
         "domain": [
          0,
          1
         ],
         "type": "date"
        },
        "yaxis": {
         "anchor": "x",
         "domain": [
          0,
          1
         ],
         "title": {
          "text": "Pos"
         }
        }
       }
      }
     },
     "metadata": {},
     "output_type": "display_data"
    }
   ],
   "source": [
    "fig = px.timeline(df, x_start='Time_start',\n",
    "                  x_end='Time_end',\n",
    "                  y='Pos',\n",
    "                  color='Vegetable')\n",
    "fig.show()"
   ]
  },
  {
   "cell_type": "code",
   "execution_count": null,
   "metadata": {},
   "outputs": [],
   "source": []
  }
 ],
 "metadata": {
  "kernelspec": {
   "display_name": ".venv",
   "language": "python",
   "name": "python3"
  },
  "language_info": {
   "codemirror_mode": {
    "name": "ipython",
    "version": 3
   },
   "file_extension": ".py",
   "mimetype": "text/x-python",
   "name": "python",
   "nbconvert_exporter": "python",
   "pygments_lexer": "ipython3",
   "version": "3.9.18"
  }
 },
 "nbformat": 4,
 "nbformat_minor": 2
}
