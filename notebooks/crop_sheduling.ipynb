{
 "cells": [
  {
   "cell_type": "code",
   "execution_count": null,
   "metadata": {},
   "outputs": [
    {
     "name": "stdout",
     "output_type": "stream",
     "text": [
      "Optimal solution found\n",
      "Quantity from 0 to H1 at time 0: 1.0\n",
      "Quantity from 0 to H1 at time 1: 1.0\n",
      "Quantity from 0 to H1 at time 2: 1.0\n",
      "Quantity from 0 to H1 at time 3: 1.0\n",
      "Quantity from 0 to H1 at time 4: 1.0\n",
      "Quantity from 0 to H1 at time 5: 1.0\n",
      "Quantity from 0 to H1 at time 6: 1.0\n",
      "Quantity from 0 to H1 at time 7: 1.0\n",
      "Quantity from 0 to H1 at time 8: 1.0\n",
      "Quantity from 0 to H1 at time 9: 1.0\n",
      "Quantity from 0 to H1 at time 10: 1.0\n",
      "Quantity from 0 to H2 at time 0: 1.0\n",
      "Quantity from 0 to H2 at time 1: 1.0\n",
      "Quantity from 0 to H2 at time 2: 1.0\n",
      "Quantity from 0 to H2 at time 3: 1.0\n",
      "Quantity from 0 to H2 at time 4: 1.0\n",
      "Quantity from 0 to H2 at time 5: 1.0\n",
      "Quantity from 0 to H2 at time 6: 1.0\n",
      "Quantity from 0 to H2 at time 7: 1.0\n",
      "Quantity from 0 to H2 at time 8: 1.0\n",
      "Quantity from 0 to H2 at time 9: 1.0\n",
      "Quantity from 0 to H2 at time 10: 1.0\n",
      "Quantity from 0 to H3 at time 0: 1.0\n",
      "Quantity from 0 to H3 at time 1: 1.0\n",
      "Quantity from 0 to H3 at time 2: 1.0\n",
      "Quantity from 0 to H3 at time 3: 1.0\n",
      "Quantity from 0 to H3 at time 4: 1.0\n",
      "Quantity from 0 to H3 at time 5: 1.0\n",
      "Quantity from 0 to H3 at time 6: 1.0\n",
      "Quantity from 0 to H3 at time 7: 1.0\n",
      "Quantity from 0 to H3 at time 8: 1.0\n",
      "Quantity from 0 to H3 at time 9: 1.0\n",
      "Quantity from 0 to H3 at time 10: 1.0\n",
      "Quantity from 1 to H1 at time 0: 0.0\n",
      "Quantity from 1 to H1 at time 1: 0.0\n",
      "Quantity from 1 to H1 at time 2: 0.0\n",
      "Quantity from 1 to H1 at time 3: 0.0\n",
      "Quantity from 1 to H1 at time 4: 0.0\n",
      "Quantity from 1 to H1 at time 5: 0.0\n",
      "Quantity from 1 to H1 at time 6: 0.0\n",
      "Quantity from 1 to H1 at time 7: 0.0\n",
      "Quantity from 1 to H1 at time 8: 0.0\n",
      "Quantity from 1 to H1 at time 9: 0.0\n",
      "Quantity from 1 to H1 at time 10: 0.0\n",
      "Quantity from 1 to H2 at time 0: 0.0\n",
      "Quantity from 1 to H2 at time 1: 0.0\n",
      "Quantity from 1 to H2 at time 2: 0.0\n",
      "Quantity from 1 to H2 at time 3: 0.0\n",
      "Quantity from 1 to H2 at time 4: 0.0\n",
      "Quantity from 1 to H2 at time 5: 0.0\n",
      "Quantity from 1 to H2 at time 6: 0.0\n",
      "Quantity from 1 to H2 at time 7: 0.0\n",
      "Quantity from 1 to H2 at time 8: 0.0\n",
      "Quantity from 1 to H2 at time 9: 0.0\n",
      "Quantity from 1 to H2 at time 10: 0.0\n",
      "Quantity from 1 to H3 at time 0: 0.0\n",
      "Quantity from 1 to H3 at time 1: 0.0\n",
      "Quantity from 1 to H3 at time 2: 0.0\n",
      "Quantity from 1 to H3 at time 3: 0.0\n",
      "Quantity from 1 to H3 at time 4: 0.0\n",
      "Quantity from 1 to H3 at time 5: 0.0\n",
      "Quantity from 1 to H3 at time 6: 0.0\n",
      "Quantity from 1 to H3 at time 7: 0.0\n",
      "Quantity from 1 to H3 at time 8: 0.0\n",
      "Quantity from 1 to H3 at time 9: 0.0\n",
      "Quantity from 1 to H3 at time 10: 0.0\n",
      "Quantity from 2 to H1 at time 0: 0.0\n",
      "Quantity from 2 to H1 at time 1: 0.0\n",
      "Quantity from 2 to H1 at time 2: 0.0\n",
      "Quantity from 2 to H1 at time 3: 0.0\n",
      "Quantity from 2 to H1 at time 4: 0.0\n",
      "Quantity from 2 to H1 at time 5: 0.0\n",
      "Quantity from 2 to H1 at time 6: 0.0\n",
      "Quantity from 2 to H1 at time 7: 0.0\n",
      "Quantity from 2 to H1 at time 8: 0.0\n",
      "Quantity from 2 to H1 at time 9: 0.0\n",
      "Quantity from 2 to H1 at time 10: 0.0\n",
      "Quantity from 2 to H2 at time 0: 0.0\n",
      "Quantity from 2 to H2 at time 1: 0.0\n",
      "Quantity from 2 to H2 at time 2: 0.0\n",
      "Quantity from 2 to H2 at time 3: 0.0\n",
      "Quantity from 2 to H2 at time 4: 0.0\n",
      "Quantity from 2 to H2 at time 5: 0.0\n",
      "Quantity from 2 to H2 at time 6: 0.0\n",
      "Quantity from 2 to H2 at time 7: 0.0\n",
      "Quantity from 2 to H2 at time 8: 0.0\n",
      "Quantity from 2 to H2 at time 9: 0.0\n",
      "Quantity from 2 to H2 at time 10: 0.0\n",
      "Quantity from 2 to H3 at time 0: 0.0\n",
      "Quantity from 2 to H3 at time 1: 0.0\n",
      "Quantity from 2 to H3 at time 2: 0.0\n",
      "Quantity from 2 to H3 at time 3: 0.0\n",
      "Quantity from 2 to H3 at time 4: 0.0\n",
      "Quantity from 2 to H3 at time 5: 0.0\n",
      "Quantity from 2 to H3 at time 6: 0.0\n",
      "Quantity from 2 to H3 at time 7: 0.0\n",
      "Quantity from 2 to H3 at time 8: 0.0\n",
      "Quantity from 2 to H3 at time 9: 0.0\n",
      "Quantity from 2 to H3 at time 10: 0.0\n",
      "Quantity from 3 to H1 at time 0: 0.0\n",
      "Quantity from 3 to H1 at time 1: 0.0\n",
      "Quantity from 3 to H1 at time 2: 0.0\n",
      "Quantity from 3 to H1 at time 3: 0.0\n",
      "Quantity from 3 to H1 at time 4: 0.0\n",
      "Quantity from 3 to H1 at time 5: 0.0\n",
      "Quantity from 3 to H1 at time 6: 0.0\n",
      "Quantity from 3 to H1 at time 7: 0.0\n",
      "Quantity from 3 to H1 at time 8: 0.0\n",
      "Quantity from 3 to H1 at time 9: 0.0\n",
      "Quantity from 3 to H1 at time 10: 0.0\n",
      "Quantity from 3 to H2 at time 0: 0.0\n",
      "Quantity from 3 to H2 at time 1: 0.0\n",
      "Quantity from 3 to H2 at time 2: 0.0\n",
      "Quantity from 3 to H2 at time 3: 0.0\n",
      "Quantity from 3 to H2 at time 4: 0.0\n",
      "Quantity from 3 to H2 at time 5: 0.0\n",
      "Quantity from 3 to H2 at time 6: 0.0\n",
      "Quantity from 3 to H2 at time 7: 0.0\n",
      "Quantity from 3 to H2 at time 8: 0.0\n",
      "Quantity from 3 to H2 at time 9: 0.0\n",
      "Quantity from 3 to H2 at time 10: 0.0\n",
      "Quantity from 3 to H3 at time 0: 0.0\n",
      "Quantity from 3 to H3 at time 1: 0.0\n",
      "Quantity from 3 to H3 at time 2: 0.0\n",
      "Quantity from 3 to H3 at time 3: 0.0\n",
      "Quantity from 3 to H3 at time 4: 0.0\n",
      "Quantity from 3 to H3 at time 5: 0.0\n",
      "Quantity from 3 to H3 at time 6: 0.0\n",
      "Quantity from 3 to H3 at time 7: 0.0\n",
      "Quantity from 3 to H3 at time 8: 0.0\n",
      "Quantity from 3 to H3 at time 9: 0.0\n",
      "Quantity from 3 to H3 at time 10: 0.0\n",
      "Quantity from 4 to H1 at time 0: 0.0\n",
      "Quantity from 4 to H1 at time 1: 0.0\n",
      "Quantity from 4 to H1 at time 2: 0.0\n",
      "Quantity from 4 to H1 at time 3: 0.0\n",
      "Quantity from 4 to H1 at time 4: 0.0\n",
      "Quantity from 4 to H1 at time 5: 0.0\n",
      "Quantity from 4 to H1 at time 6: 0.0\n",
      "Quantity from 4 to H1 at time 7: 0.0\n",
      "Quantity from 4 to H1 at time 8: 0.0\n",
      "Quantity from 4 to H1 at time 9: 0.0\n",
      "Quantity from 4 to H1 at time 10: 0.0\n",
      "Quantity from 4 to H2 at time 0: 0.0\n",
      "Quantity from 4 to H2 at time 1: 0.0\n",
      "Quantity from 4 to H2 at time 2: 0.0\n",
      "Quantity from 4 to H2 at time 3: 0.0\n",
      "Quantity from 4 to H2 at time 4: 0.0\n",
      "Quantity from 4 to H2 at time 5: 0.0\n",
      "Quantity from 4 to H2 at time 6: 0.0\n",
      "Quantity from 4 to H2 at time 7: 0.0\n",
      "Quantity from 4 to H2 at time 8: 0.0\n",
      "Quantity from 4 to H2 at time 9: 0.0\n",
      "Quantity from 4 to H2 at time 10: 0.0\n",
      "Quantity from 4 to H3 at time 0: 0.0\n",
      "Quantity from 4 to H3 at time 1: 0.0\n",
      "Quantity from 4 to H3 at time 2: 0.0\n",
      "Quantity from 4 to H3 at time 3: 0.0\n",
      "Quantity from 4 to H3 at time 4: 0.0\n",
      "Quantity from 4 to H3 at time 5: 0.0\n",
      "Quantity from 4 to H3 at time 6: 0.0\n",
      "Quantity from 4 to H3 at time 7: 0.0\n",
      "Quantity from 4 to H3 at time 8: 0.0\n",
      "Quantity from 4 to H3 at time 9: 0.0\n",
      "Quantity from 4 to H3 at time 10: 0.0\n",
      "Quantity from 5 to H1 at time 0: 0.0\n",
      "Quantity from 5 to H1 at time 1: 0.0\n",
      "Quantity from 5 to H1 at time 2: 0.0\n",
      "Quantity from 5 to H1 at time 3: 0.0\n",
      "Quantity from 5 to H1 at time 4: 0.0\n",
      "Quantity from 5 to H1 at time 5: 0.0\n",
      "Quantity from 5 to H1 at time 6: 0.0\n",
      "Quantity from 5 to H1 at time 7: 0.0\n",
      "Quantity from 5 to H1 at time 8: 0.0\n",
      "Quantity from 5 to H1 at time 9: 0.0\n",
      "Quantity from 5 to H1 at time 10: 0.0\n",
      "Quantity from 5 to H2 at time 0: 0.0\n",
      "Quantity from 5 to H2 at time 1: 0.0\n",
      "Quantity from 5 to H2 at time 2: 0.0\n",
      "Quantity from 5 to H2 at time 3: 0.0\n",
      "Quantity from 5 to H2 at time 4: 0.0\n",
      "Quantity from 5 to H2 at time 5: 0.0\n",
      "Quantity from 5 to H2 at time 6: 0.0\n",
      "Quantity from 5 to H2 at time 7: 0.0\n",
      "Quantity from 5 to H2 at time 8: 0.0\n",
      "Quantity from 5 to H2 at time 9: 0.0\n",
      "Quantity from 5 to H2 at time 10: 0.0\n",
      "Quantity from 5 to H3 at time 0: 0.0\n",
      "Quantity from 5 to H3 at time 1: 0.0\n",
      "Quantity from 5 to H3 at time 2: 0.0\n",
      "Quantity from 5 to H3 at time 3: 0.0\n",
      "Quantity from 5 to H3 at time 4: 0.0\n",
      "Quantity from 5 to H3 at time 5: 0.0\n",
      "Quantity from 5 to H3 at time 6: 0.0\n",
      "Quantity from 5 to H3 at time 7: 0.0\n",
      "Quantity from 5 to H3 at time 8: 0.0\n",
      "Quantity from 5 to H3 at time 9: 0.0\n",
      "Quantity from 5 to H3 at time 10: 0.0\n",
      "Total objective value: 10.449999999999992\n"
     ]
    }
   ],
   "source": [
    "from pyomo.environ import *\n",
    "\n",
    "model = ConcreteModel()\n",
    "\n",
    "model.VEGETABLES = Set(initialize=['H1', 'H2', 'H3'])\n",
    "model.X = RangeSet(0, 5)\n",
    "model.TIME = RangeSet(0, 10)\n",
    "\n",
    "model.growth = Param(model.VEGETABLES, initialize={'H1': 2, 'H2': 4, 'H3': 5})\n",
    "\n",
    "model.scheduling = Var(model.X, model.VEGETABLES, model.TIME, domain=Binary)\n",
    "\n",
    "def objective_rule(model):\n",
    "    return sum(model.scheduling[x, h, t] / model.growth[h]\n",
    "               for x in model.X for h in model.VEGETABLES for t in model.TIME)\n",
    "\n",
    "model.objective = Objective(rule=objective_rule, sense=maximize)\n",
    "\n",
    "def supply_unique_vegetables(model, h, t):\n",
    "    return sum(model.scheduling[x, h, t] for x in model.X) <= 1\n",
    "\n",
    "model.demand_constraint = Constraint(model.VEGETABLES, model.TIME, rule=supply_unique_vegetables)\n",
    "\n",
    "solver = SolverFactory('glpk')\n",
    "solver.options['tmlim'] = 60\n",
    "results = solver.solve(model)\n",
    "\n",
    "if results.solver.termination_condition == TerminationCondition.optimal:\n",
    "    print(\"Optimal solution found\")\n",
    "    for x in model.X:\n",
    "        for h in model.VEGETABLES:\n",
    "            for t in model.TIME:\n",
    "                print(f\"Quantity from {x} to {h} at time {t}: {model.scheduling[x, h, t].value}\")\n",
    "    print(\"Total objective value:\", model.objective())\n",
    "else:\n",
    "    print(\"Solver did not converge to an optimal solution\")\n",
    "\n"
   ]
  },
  {
   "cell_type": "code",
   "execution_count": 2,
   "metadata": {},
   "outputs": [],
   "source": [
    "init_dict = {(x, h, t): 0 for x in range(4) for h in ['H1', 'H2', 'H3'] for t in range(7)}"
   ]
  },
  {
   "cell_type": "code",
   "execution_count": 3,
   "metadata": {},
   "outputs": [],
   "source": [
    "for t in range(1,4):\n",
    "    init_dict[0, 'H1', t] = 1\n",
    "    init_dict[1, 'H2', t] = 1\n",
    "    init_dict[2, 'H3', t] = 1\n",
    "    init_dict[3, 'H2', t] = 1\n",
    "init_dict[0, 'H1', 4] = 1\n",
    "init_dict[0, 'H1', 5] = 1"
   ]
  },
  {
   "cell_type": "code",
   "execution_count": 10,
   "metadata": {},
   "outputs": [
    {
     "name": "stdout",
     "output_type": "stream",
     "text": [
      "ERROR: Rule failed when generating expression for Constraint supply_constraint\n",
      "with index (0, 'H1', 1): TypeError: Implicit conversion of Pyomo numeric value\n",
      "(plant_vegetable_bin[0,H1,1]) to float is disabled. This error is often the\n",
      "result of using Pyomo components as arguments to one of the Python built-in\n",
      "math module functions when defining expressions. Avoid this error by using\n",
      "Pyomo-provided math functions or explicitly resolving the numeric value using\n",
      "the Pyomo value() function.\n",
      "ERROR: Constructing component 'supply_constraint' from data=None failed:\n",
      "TypeError: Implicit conversion of Pyomo numeric value\n",
      "(plant_vegetable_bin[0,H1,1]) to float is disabled. This error is often the\n",
      "result of using Pyomo components as arguments to one of the Python built-in\n",
      "math module functions when defining expressions. Avoid this error by using\n",
      "Pyomo-provided math functions or explicitly resolving the numeric value using\n",
      "the Pyomo value() function.\n"
     ]
    },
    {
     "ename": "TypeError",
     "evalue": "Implicit conversion of Pyomo numeric value (plant_vegetable_bin[0,H1,1]) to float is disabled.\nThis error is often the result of using Pyomo components as arguments to\none of the Python built-in math module functions when defining\nexpressions. Avoid this error by using Pyomo-provided math functions or\nexplicitly resolving the numeric value using the Pyomo value() function.",
     "output_type": "error",
     "traceback": [
      "\u001b[0;31m---------------------------------------------------------------------------\u001b[0m",
      "\u001b[0;31mTypeError\u001b[0m                                 Traceback (most recent call last)",
      "\u001b[1;32m/home/marnugue/Documents/crop_scheduling_optimization/notebooks/crop_sheduling.ipynb Cell 4\u001b[0m line \u001b[0;36m1\n\u001b[1;32m     <a href='vscode-notebook-cell:/home/marnugue/Documents/crop_scheduling_optimization/notebooks/crop_sheduling.ipynb#W3sZmlsZQ%3D%3D?line=94'>95</a>\u001b[0m     \u001b[39mreturn\u001b[39;00m \u001b[39msum\u001b[39m(model\u001b[39m.\u001b[39mscheduling[x, h, t] \u001b[39mfor\u001b[39;00m h \u001b[39min\u001b[39;00m model\u001b[39m.\u001b[39mVEGETABLES) \u001b[39m<\u001b[39m\u001b[39m=\u001b[39m \u001b[39m1\u001b[39m  \u001b[39m# Constraint on warehouses' demand\u001b[39;00m\n\u001b[1;32m     <a href='vscode-notebook-cell:/home/marnugue/Documents/crop_scheduling_optimization/notebooks/crop_sheduling.ipynb#W3sZmlsZQ%3D%3D?line=96'>97</a>\u001b[0m \u001b[39m# interchange vegetables\u001b[39;00m\n\u001b[1;32m     <a href='vscode-notebook-cell:/home/marnugue/Documents/crop_scheduling_optimization/notebooks/crop_sheduling.ipynb#W3sZmlsZQ%3D%3D?line=97'>98</a>\u001b[0m \n\u001b[1;32m     <a href='vscode-notebook-cell:/home/marnugue/Documents/crop_scheduling_optimization/notebooks/crop_sheduling.ipynb#W3sZmlsZQ%3D%3D?line=98'>99</a>\u001b[0m \u001b[39m# def interchange_vegetables(model, x, h, t):\u001b[39;00m\n\u001b[0;32m   (...)\u001b[0m\n\u001b[1;32m    <a href='vscode-notebook-cell:/home/marnugue/Documents/crop_scheduling_optimization/notebooks/crop_sheduling.ipynb#W3sZmlsZQ%3D%3D?line=102'>103</a>\u001b[0m \n\u001b[1;32m    <a href='vscode-notebook-cell:/home/marnugue/Documents/crop_scheduling_optimization/notebooks/crop_sheduling.ipynb#W3sZmlsZQ%3D%3D?line=103'>104</a>\u001b[0m \u001b[39m# model.interchange_constraint = Constraint(model.X, model.VEGETABLES, model.TIME, rule=interchange_vegetables)\u001b[39;00m\n\u001b[0;32m--> <a href='vscode-notebook-cell:/home/marnugue/Documents/crop_scheduling_optimization/notebooks/crop_sheduling.ipynb#W3sZmlsZQ%3D%3D?line=105'>106</a>\u001b[0m model\u001b[39m.\u001b[39;49msupply_constraint \u001b[39m=\u001b[39m Constraint(model\u001b[39m.\u001b[39mX, model\u001b[39m.\u001b[39mVEGETABLES, model\u001b[39m.\u001b[39mTIME, rule\u001b[39m=\u001b[39msupply_time_growth)\n\u001b[1;32m    <a href='vscode-notebook-cell:/home/marnugue/Documents/crop_scheduling_optimization/notebooks/crop_sheduling.ipynb#W3sZmlsZQ%3D%3D?line=106'>107</a>\u001b[0m model\u001b[39m.\u001b[39mdemand_constraint \u001b[39m=\u001b[39m Constraint(model\u001b[39m.\u001b[39mX, model\u001b[39m.\u001b[39mTIME, rule\u001b[39m=\u001b[39msupply_unique_vegetables)\n\u001b[1;32m    <a href='vscode-notebook-cell:/home/marnugue/Documents/crop_scheduling_optimization/notebooks/crop_sheduling.ipynb#W3sZmlsZQ%3D%3D?line=108'>109</a>\u001b[0m model\u001b[39m.\u001b[39mabs_diff \u001b[39m=\u001b[39m Var(\u001b[39mrange\u001b[39m(\u001b[39mlen\u001b[39m(model\u001b[39m.\u001b[39mVEGETABLES)\u001b[39m*\u001b[39m\u001b[39m*\u001b[39m\u001b[39m2\u001b[39m), initialize\u001b[39m=\u001b[39m\u001b[39m0\u001b[39m, domain\u001b[39m=\u001b[39mNonNegativeReals)\n",
      "File \u001b[0;32m~/anaconda3/envs/crop_optimization/lib/python3.12/site-packages/pyomo/core/base/block.py:580\u001b[0m, in \u001b[0;36m_BlockData.__setattr__\u001b[0;34m(self, name, val)\u001b[0m\n\u001b[1;32m    575\u001b[0m \u001b[39mif\u001b[39;00m name \u001b[39mnot\u001b[39;00m \u001b[39min\u001b[39;00m \u001b[39mself\u001b[39m\u001b[39m.\u001b[39m\u001b[39m__dict__\u001b[39m:\n\u001b[1;32m    576\u001b[0m     \u001b[39mif\u001b[39;00m \u001b[39misinstance\u001b[39m(val, Component):\n\u001b[1;32m    577\u001b[0m         \u001b[39m#\u001b[39;00m\n\u001b[1;32m    578\u001b[0m         \u001b[39m# Pyomo components are added with the add_component method.\u001b[39;00m\n\u001b[1;32m    579\u001b[0m         \u001b[39m#\u001b[39;00m\n\u001b[0;32m--> 580\u001b[0m         \u001b[39mself\u001b[39;49m\u001b[39m.\u001b[39;49madd_component(name, val)\n\u001b[1;32m    581\u001b[0m     \u001b[39melse\u001b[39;00m:\n\u001b[1;32m    582\u001b[0m         \u001b[39m#\u001b[39;00m\n\u001b[1;32m    583\u001b[0m         \u001b[39m# Other Python objects are added with the standard __setattr__\u001b[39;00m\n\u001b[1;32m    584\u001b[0m         \u001b[39m# method.\u001b[39;00m\n\u001b[1;32m    585\u001b[0m         \u001b[39m#\u001b[39;00m\n\u001b[1;32m    586\u001b[0m         \u001b[39msuper\u001b[39m(_BlockData, \u001b[39mself\u001b[39m)\u001b[39m.\u001b[39m\u001b[39m__setattr__\u001b[39m(name, val)\n",
      "File \u001b[0;32m~/anaconda3/envs/crop_optimization/lib/python3.12/site-packages/pyomo/core/base/block.py:1185\u001b[0m, in \u001b[0;36m_BlockData.add_component\u001b[0;34m(self, name, val)\u001b[0m\n\u001b[1;32m   1177\u001b[0m     logger\u001b[39m.\u001b[39mdebug(\n\u001b[1;32m   1178\u001b[0m         \u001b[39m\"\u001b[39m\u001b[39mConstructing \u001b[39m\u001b[39m%s\u001b[39;00m\u001b[39m \u001b[39m\u001b[39m'\u001b[39m\u001b[39m%s\u001b[39;00m\u001b[39m'\u001b[39m\u001b[39m on \u001b[39m\u001b[39m%s\u001b[39;00m\u001b[39m from data=\u001b[39m\u001b[39m%s\u001b[39;00m\u001b[39m\"\u001b[39m,\n\u001b[1;32m   1179\u001b[0m         val\u001b[39m.\u001b[39m\u001b[39m__class__\u001b[39m\u001b[39m.\u001b[39m\u001b[39m__name__\u001b[39m,\n\u001b[0;32m   (...)\u001b[0m\n\u001b[1;32m   1182\u001b[0m         \u001b[39mstr\u001b[39m(data),\n\u001b[1;32m   1183\u001b[0m     )\n\u001b[1;32m   1184\u001b[0m \u001b[39mtry\u001b[39;00m:\n\u001b[0;32m-> 1185\u001b[0m     val\u001b[39m.\u001b[39;49mconstruct(data)\n\u001b[1;32m   1186\u001b[0m \u001b[39mexcept\u001b[39;00m:\n\u001b[1;32m   1187\u001b[0m     err \u001b[39m=\u001b[39m sys\u001b[39m.\u001b[39mexc_info()[\u001b[39m1\u001b[39m]\n",
      "File \u001b[0;32m~/anaconda3/envs/crop_optimization/lib/python3.12/site-packages/pyomo/core/base/constraint.py:806\u001b[0m, in \u001b[0;36mConstraint.construct\u001b[0;34m(self, data)\u001b[0m\n\u001b[1;32m    803\u001b[0m     \u001b[39melse\u001b[39;00m:\n\u001b[1;32m    804\u001b[0m         \u001b[39m# Bypass the index validation and create the member directly\u001b[39;00m\n\u001b[1;32m    805\u001b[0m         \u001b[39mfor\u001b[39;00m index \u001b[39min\u001b[39;00m \u001b[39mself\u001b[39m\u001b[39m.\u001b[39mindex_set():\n\u001b[0;32m--> 806\u001b[0m             \u001b[39mself\u001b[39m\u001b[39m.\u001b[39m_setitem_when_not_present(index, rule(block, index))\n\u001b[1;32m    807\u001b[0m \u001b[39mexcept\u001b[39;00m \u001b[39mException\u001b[39;00m:\n\u001b[1;32m    808\u001b[0m     err \u001b[39m=\u001b[39m sys\u001b[39m.\u001b[39mexc_info()[\u001b[39m1\u001b[39m]\n",
      "File \u001b[0;32m~/anaconda3/envs/crop_optimization/lib/python3.12/site-packages/pyomo/core/base/initializer.py:314\u001b[0m, in \u001b[0;36mIndexedCallInitializer.__call__\u001b[0;34m(self, parent, idx)\u001b[0m\n\u001b[1;32m    308\u001b[0m \u001b[39mdef\u001b[39;00m \u001b[39m__call__\u001b[39m(\u001b[39mself\u001b[39m, parent, idx):\n\u001b[1;32m    309\u001b[0m     \u001b[39m# Note: this is called by a component using data from a Set (so\u001b[39;00m\n\u001b[1;32m    310\u001b[0m     \u001b[39m# any tuple-like type should have already been checked and\u001b[39;00m\n\u001b[1;32m    311\u001b[0m     \u001b[39m# converted to a tuple; or flattening is turned off and it is\u001b[39;00m\n\u001b[1;32m    312\u001b[0m     \u001b[39m# the user's responsibility to sort things out.\u001b[39;00m\n\u001b[1;32m    313\u001b[0m     \u001b[39mif\u001b[39;00m idx\u001b[39m.\u001b[39m\u001b[39m__class__\u001b[39m \u001b[39mis\u001b[39;00m \u001b[39mtuple\u001b[39m:\n\u001b[0;32m--> 314\u001b[0m         \u001b[39mreturn\u001b[39;00m \u001b[39mself\u001b[39;49m\u001b[39m.\u001b[39;49m_fcn(parent, \u001b[39m*\u001b[39;49midx)\n\u001b[1;32m    315\u001b[0m     \u001b[39melse\u001b[39;00m:\n\u001b[1;32m    316\u001b[0m         \u001b[39mreturn\u001b[39;00m \u001b[39mself\u001b[39m\u001b[39m.\u001b[39m_fcn(parent, idx)\n",
      "\u001b[1;32m/home/marnugue/Documents/crop_scheduling_optimization/notebooks/crop_sheduling.ipynb Cell 4\u001b[0m line \u001b[0;36m8\n\u001b[1;32m     <a href='vscode-notebook-cell:/home/marnugue/Documents/crop_scheduling_optimization/notebooks/crop_sheduling.ipynb#W3sZmlsZQ%3D%3D?line=84'>85</a>\u001b[0m     max_value \u001b[39m=\u001b[39m model\u001b[39m.\u001b[39mgrowth[h] \u001b[39m+\u001b[39m \u001b[39m1\u001b[39m\n\u001b[1;32m     <a href='vscode-notebook-cell:/home/marnugue/Documents/crop_scheduling_optimization/notebooks/crop_sheduling.ipynb#W3sZmlsZQ%3D%3D?line=86'>87</a>\u001b[0m \u001b[39m# right_side = value(min(model.min_variable[x, h, t]))\u001b[39;00m\n\u001b[0;32m---> <a href='vscode-notebook-cell:/home/marnugue/Documents/crop_scheduling_optimization/notebooks/crop_sheduling.ipynb#W3sZmlsZQ%3D%3D?line=88'>89</a>\u001b[0m \u001b[39mreturn\u001b[39;00m  ceil(model\u001b[39m.\u001b[39;49mplant_vegetable_bin[x,h,t]) \u001b[39m*\u001b[39m (max_value \u001b[39m-\u001b[39m post_sum)  \u001b[39m<\u001b[39m\u001b[39m=\u001b[39m \u001b[39m1\u001b[39m\n",
      "File \u001b[0;32mpyomo/core/expr/numeric_expr.pyx:337\u001b[0m, in \u001b[0;36mpyomo.core.expr.numeric_expr.NumericValue.__float__\u001b[0;34m()\u001b[0m\n",
      "\u001b[0;31mTypeError\u001b[0m: Implicit conversion of Pyomo numeric value (plant_vegetable_bin[0,H1,1]) to float is disabled.\nThis error is often the result of using Pyomo components as arguments to\none of the Python built-in math module functions when defining\nexpressions. Avoid this error by using Pyomo-provided math functions or\nexplicitly resolving the numeric value using the Pyomo value() function."
     ]
    }
   ],
   "source": [
    "from pyomo.environ import *\n",
    "from pyomo.core.util import prod\n",
    "from math import ceil\n",
    "import sys\n",
    "sys.path.append('/home/marnugue/Documents/crop_scheduling_optimization')\n",
    "from src.utils.epsilon_constraint import EpsilonConstraintAugment\n",
    "from src.utils.max_constraint import max_constraints\n",
    "# Create an instance of a concrete model\n",
    "model = ConcreteModel()\n",
    "\n",
    "# Sets\n",
    "model.VEGETABLES = Set(initialize=['H1', 'H2', 'H3'])\n",
    "model.X = RangeSet(0,3)\n",
    "model.TIME = RangeSet(0,6)\n",
    "# Parameters\n",
    "# Transportation costs from factories to warehouses\n",
    "model.growth = Param(model.VEGETABLES, initialize={\n",
    "    'H1': 5,\n",
    "    'H2': 3,\n",
    "    'H3': 3\n",
    "})\n",
    "\n",
    "# Variables\n",
    "model.scheduling = Var(model.X, model.VEGETABLES, model.TIME, initialize=init_dict, domain=Binary)\n",
    "\n",
    "# max_var_names = []\n",
    "for x in model.X:\n",
    "    for h in model.VEGETABLES:\n",
    "        for t in model.TIME:\n",
    "            if t>0:\n",
    "                var1_name = f'scheduling_{x}_{h}_{t}'\n",
    "                var2_name = f'scheduling_{x}_{h}_{t-1}'\n",
    "                max_constraints(model, model.scheduling[x,h,t], model.scheduling[x,h,t - 1],  var1_str_name=var1_name,\n",
    "                    var2_str_name=var2_name)\n",
    "\n",
    "def diff_expr(model, x, h, t):\n",
    "    if t> 0:\n",
    "        var_name_1 = f'scheduling_{x}_{h}_{t}'\n",
    "        var_name_2 = f'scheduling_{x}_{h}_{t-1}'\n",
    "        return (1 - (model.scheduling[x,h,t -1]*model.scheduling[x,h,t]))*(getattr(model, f'max_value_{var_name_1}_{var_name_2}'))*model.scheduling[x,h,t]\n",
    "    else:\n",
    "        return 0\n",
    "    \n",
    "model.exp1 = Expression(model.X, model.VEGETABLES, model.TIME, rule=diff_expr)\n",
    "def concat_expr(model, x,h,t):\n",
    "    \n",
    "    if t > model.growth[h] + 1:\n",
    "        return prod(model.scheduling[x,h,t - t_i] for t_i in range(model.growth[h] + 1))\n",
    "    else:\n",
    "        return 0\n",
    "    \n",
    "model.exp2 = Expression(model.X, model.VEGETABLES, model.TIME, rule=concat_expr)\n",
    "    \n",
    "def _exp_plant_vegetable_bin(model, x, h, t):\n",
    "    return  model.exp1[x, h, t]\n",
    "\n",
    "model.plant_vegetable_bin = Expression(model.X, model.VEGETABLES, model.TIME, rule=_exp_plant_vegetable_bin )\n",
    "\n",
    "# def _exp_plant_vegetable_bin(model, x, h, t):\n",
    "    \n",
    "#     if t == 0:\n",
    "#         return Expression.Skip\n",
    "    \n",
    "#     if (value(model.scheduling[x,h,t-1]) != value(model.scheduling[x,h,t])) or\\\n",
    "#         (t > model.growth[h] and all([value(model.scheduling[x,h,t - t_i]) for t_i in range(model.growth[h])])):\n",
    "#         return 1\n",
    "    \n",
    "#     return 0\n",
    "\n",
    "# model.plant_vegetable_bin =  Var(model.X, model.VEGETABLES, model.TIME, initialize=0) \n",
    "\n",
    "# Constraints\n",
    "def supply_time_growth(model, x, h, t):\n",
    "    \n",
    "    if t == 0:\n",
    "        return model.scheduling[x, h,  t] == 0\n",
    "    \n",
    "    post_hours = min(t + model.growth[h] - 1, max(model.TIME))\n",
    "    \n",
    "    post_sum = sum(model.scheduling[x, h, t_i] for t_i in range(t, post_hours + 1))\n",
    "    \n",
    "    if t + model.growth[h] - 1 > post_hours:\n",
    "        max_value = (max(model.TIME) - t)  + 1\n",
    "    else:\n",
    "        max_value = model.growth[h] + 1\n",
    "    \n",
    "    # right_side = value(min(model.min_variable[x, h, t]))\n",
    "    \n",
    "    return  ceil(model.plant_vegetable_bin[x,h,t]) * (max_value - post_sum)  <= 1\n",
    "\n",
    "def vegetable_production(model, h):\n",
    "    return sum(model.scheduling[x, h, t] for x in model.X for t in model.TIME)/model.growth[h]\n",
    "\n",
    "def supply_unique_vegetables(model, x, t):\n",
    "    return sum(model.scheduling[x, h, t] for h in model.VEGETABLES) <= 1  # Constraint on warehouses' demand\n",
    "\n",
    "# interchange vegetables\n",
    "\n",
    "# def interchange_vegetables(model, x, h, t):\n",
    "#     post_hours = min(t + model.growth[h], max(model.TIME))\n",
    "    \n",
    "#     return model.plant_vegetable_bin[x, h, t] * model.scheduling[x, h, post_hours] == 0\n",
    "\n",
    "# model.interchange_constraint = Constraint(model.X, model.VEGETABLES, model.TIME, rule=interchange_vegetables)\n",
    "\n",
    "model.supply_constraint = Constraint(model.X, model.VEGETABLES, model.TIME, rule=supply_time_growth)\n",
    "model.demand_constraint = Constraint(model.X, model.TIME, rule=supply_unique_vegetables)\n",
    "\n",
    "model.abs_diff = Var(range(len(model.VEGETABLES)**2), initialize=0, domain=NonNegativeReals)\n",
    "\n",
    "model.expr_vegetables = Expression(model.VEGETABLES, initialize=vegetable_production)\n",
    "\n",
    "# Define constraints to linearize absolute differences\n",
    "def abs_diff_constraint_rule(model, i, h1, h2):\n",
    "    return model.abs_diff[i] >= model.expr_vegetables[h1] - model.expr_vegetables[h2]\n",
    "\n",
    "model.abs_diff_constraint_pos = Constraint(range(len(model.VEGETABLES)**2),\n",
    "                                           model.VEGETABLES,\n",
    "                                           model.VEGETABLES,\n",
    "                                           rule=abs_diff_constraint_rule)\n",
    "\n",
    "def abs_diff_constraint_rule_neg(m, i, h1, h2):\n",
    "    return m.abs_diff[i] >= - model.expr_vegetables[h1] +  model.expr_vegetables[h2]\n",
    "\n",
    "model.abs_diff_constraint_neg = Constraint(range(len(model.VEGETABLES)**2),\n",
    "                                           model.VEGETABLES,\n",
    "                                           model.VEGETABLES,\n",
    "                                           rule=abs_diff_constraint_rule_neg)\n",
    "\n",
    "\n",
    "# Objective function\n",
    "def production(model):\n",
    "    return sum(model.scheduling[x, h, t]/ model.growth[h]\n",
    "               for x in model.X for h in model.VEGETABLES for t in model.TIME)\n",
    "\n",
    "# def balanced_production(model):\n",
    "#     return - sum(abs(model.exp_vegetables[v1] - model.exp_vegetables[v2]) for v1 in model.VEGETABLES for v2 in model.VEGETABLES)\n",
    "\n",
    "def linear_balanced_production(model):\n",
    "    return - sum(model.abs_diff[i] for i in range(len(model.VEGETABLES)**2))\n",
    "\n",
    "model.production = Objective(rule=production, sense=maximize)\n",
    "model.demmand = Objective(rule=linear_balanced_production, sense=maximize)\n",
    "\n",
    "model.demmand.deactivate()\n",
    "\n",
    "# eps = EpsilonConstraintAugment(model, solver='cbc')\n",
    "# solutions = eps.execute(time_limit=10)\n",
    "\n",
    "# model.objective = Multi\n",
    "\n",
    "# Solve the model\n",
    "solver = SolverFactory('ipopt')  # Using GLPK solver\n",
    "results = solver.solve(model)\n",
    "# solver = SolverFactory('mindtpy')\n",
    "#         # solver.options['seconds'] = timelimit\n",
    "# status = solver.solve(model, mip_solver='cbc',\n",
    "#                               nlp_solver='ipopt')\n",
    "# # Display results\n",
    "# if results.solver.termination_condition == TerminationCondition.optimal:\n",
    "#     print(\"Optimal solution found\")\n",
    "#     for x in model.X:\n",
    "#         for h in model.VEGETABLES:\n",
    "#             for t in model.TIME:\n",
    "#                 print(f\"Quantity transported from {x} to {h} {t}: {model.scheduling[x, h, t].value}\")\n",
    "    # for h in model.VEGETABLES:b\n",
    "    \n",
    "    #     print(model.param_vegetables[h])\n",
    "    # print(\"Total cost:\", model.demmand())\n",
    "# else:\n",
    "#     print(\"Solver did not converge to an optimal solution\")\n"
   ]
  },
  {
   "cell_type": "code",
   "execution_count": 8,
   "metadata": {},
   "outputs": [],
   "source": [
    "import pandas as pd\n",
    "df = pd.DataFrame(columns=['x','h','t','value'])\n",
    "idx=0\n",
    "for x in model.X:\n",
    "    for h in model.VEGETABLES:\n",
    "        for t in model.TIME:\n",
    "            idx+=1    \n",
    "            df.loc[idx,:] = [x,h,t,ceil(model.scheduling[x, h, t].value)]"
   ]
  },
  {
   "cell_type": "code",
   "execution_count": 9,
   "metadata": {},
   "outputs": [
    {
     "data": {
      "text/html": [
       "<div>\n",
       "<style scoped>\n",
       "    .dataframe tbody tr th:only-of-type {\n",
       "        vertical-align: middle;\n",
       "    }\n",
       "\n",
       "    .dataframe tbody tr th {\n",
       "        vertical-align: top;\n",
       "    }\n",
       "\n",
       "    .dataframe thead th {\n",
       "        text-align: right;\n",
       "    }\n",
       "</style>\n",
       "<table border=\"1\" class=\"dataframe\">\n",
       "  <thead>\n",
       "    <tr style=\"text-align: right;\">\n",
       "      <th></th>\n",
       "      <th>x</th>\n",
       "      <th>h</th>\n",
       "      <th>t</th>\n",
       "      <th>value</th>\n",
       "    </tr>\n",
       "  </thead>\n",
       "  <tbody>\n",
       "    <tr>\n",
       "      <th>1</th>\n",
       "      <td>0</td>\n",
       "      <td>H1</td>\n",
       "      <td>0</td>\n",
       "      <td>0</td>\n",
       "    </tr>\n",
       "    <tr>\n",
       "      <th>2</th>\n",
       "      <td>0</td>\n",
       "      <td>H1</td>\n",
       "      <td>1</td>\n",
       "      <td>1</td>\n",
       "    </tr>\n",
       "    <tr>\n",
       "      <th>3</th>\n",
       "      <td>0</td>\n",
       "      <td>H1</td>\n",
       "      <td>2</td>\n",
       "      <td>1</td>\n",
       "    </tr>\n",
       "    <tr>\n",
       "      <th>4</th>\n",
       "      <td>0</td>\n",
       "      <td>H1</td>\n",
       "      <td>3</td>\n",
       "      <td>1</td>\n",
       "    </tr>\n",
       "    <tr>\n",
       "      <th>5</th>\n",
       "      <td>0</td>\n",
       "      <td>H1</td>\n",
       "      <td>4</td>\n",
       "      <td>1</td>\n",
       "    </tr>\n",
       "    <tr>\n",
       "      <th>6</th>\n",
       "      <td>0</td>\n",
       "      <td>H1</td>\n",
       "      <td>5</td>\n",
       "      <td>1</td>\n",
       "    </tr>\n",
       "    <tr>\n",
       "      <th>7</th>\n",
       "      <td>0</td>\n",
       "      <td>H1</td>\n",
       "      <td>6</td>\n",
       "      <td>1</td>\n",
       "    </tr>\n",
       "    <tr>\n",
       "      <th>8</th>\n",
       "      <td>0</td>\n",
       "      <td>H2</td>\n",
       "      <td>0</td>\n",
       "      <td>0</td>\n",
       "    </tr>\n",
       "    <tr>\n",
       "      <th>9</th>\n",
       "      <td>0</td>\n",
       "      <td>H2</td>\n",
       "      <td>1</td>\n",
       "      <td>1</td>\n",
       "    </tr>\n",
       "    <tr>\n",
       "      <th>10</th>\n",
       "      <td>0</td>\n",
       "      <td>H2</td>\n",
       "      <td>2</td>\n",
       "      <td>1</td>\n",
       "    </tr>\n",
       "    <tr>\n",
       "      <th>11</th>\n",
       "      <td>0</td>\n",
       "      <td>H2</td>\n",
       "      <td>3</td>\n",
       "      <td>1</td>\n",
       "    </tr>\n",
       "    <tr>\n",
       "      <th>12</th>\n",
       "      <td>0</td>\n",
       "      <td>H2</td>\n",
       "      <td>4</td>\n",
       "      <td>1</td>\n",
       "    </tr>\n",
       "    <tr>\n",
       "      <th>13</th>\n",
       "      <td>0</td>\n",
       "      <td>H2</td>\n",
       "      <td>5</td>\n",
       "      <td>1</td>\n",
       "    </tr>\n",
       "    <tr>\n",
       "      <th>14</th>\n",
       "      <td>0</td>\n",
       "      <td>H2</td>\n",
       "      <td>6</td>\n",
       "      <td>1</td>\n",
       "    </tr>\n",
       "    <tr>\n",
       "      <th>15</th>\n",
       "      <td>0</td>\n",
       "      <td>H3</td>\n",
       "      <td>0</td>\n",
       "      <td>0</td>\n",
       "    </tr>\n",
       "    <tr>\n",
       "      <th>16</th>\n",
       "      <td>0</td>\n",
       "      <td>H3</td>\n",
       "      <td>1</td>\n",
       "      <td>1</td>\n",
       "    </tr>\n",
       "    <tr>\n",
       "      <th>17</th>\n",
       "      <td>0</td>\n",
       "      <td>H3</td>\n",
       "      <td>2</td>\n",
       "      <td>1</td>\n",
       "    </tr>\n",
       "    <tr>\n",
       "      <th>18</th>\n",
       "      <td>0</td>\n",
       "      <td>H3</td>\n",
       "      <td>3</td>\n",
       "      <td>1</td>\n",
       "    </tr>\n",
       "    <tr>\n",
       "      <th>19</th>\n",
       "      <td>0</td>\n",
       "      <td>H3</td>\n",
       "      <td>4</td>\n",
       "      <td>1</td>\n",
       "    </tr>\n",
       "    <tr>\n",
       "      <th>20</th>\n",
       "      <td>0</td>\n",
       "      <td>H3</td>\n",
       "      <td>5</td>\n",
       "      <td>1</td>\n",
       "    </tr>\n",
       "    <tr>\n",
       "      <th>21</th>\n",
       "      <td>0</td>\n",
       "      <td>H3</td>\n",
       "      <td>6</td>\n",
       "      <td>1</td>\n",
       "    </tr>\n",
       "    <tr>\n",
       "      <th>22</th>\n",
       "      <td>1</td>\n",
       "      <td>H1</td>\n",
       "      <td>0</td>\n",
       "      <td>0</td>\n",
       "    </tr>\n",
       "    <tr>\n",
       "      <th>23</th>\n",
       "      <td>1</td>\n",
       "      <td>H1</td>\n",
       "      <td>1</td>\n",
       "      <td>1</td>\n",
       "    </tr>\n",
       "    <tr>\n",
       "      <th>24</th>\n",
       "      <td>1</td>\n",
       "      <td>H1</td>\n",
       "      <td>2</td>\n",
       "      <td>1</td>\n",
       "    </tr>\n",
       "    <tr>\n",
       "      <th>25</th>\n",
       "      <td>1</td>\n",
       "      <td>H1</td>\n",
       "      <td>3</td>\n",
       "      <td>1</td>\n",
       "    </tr>\n",
       "    <tr>\n",
       "      <th>26</th>\n",
       "      <td>1</td>\n",
       "      <td>H1</td>\n",
       "      <td>4</td>\n",
       "      <td>1</td>\n",
       "    </tr>\n",
       "    <tr>\n",
       "      <th>27</th>\n",
       "      <td>1</td>\n",
       "      <td>H1</td>\n",
       "      <td>5</td>\n",
       "      <td>1</td>\n",
       "    </tr>\n",
       "    <tr>\n",
       "      <th>28</th>\n",
       "      <td>1</td>\n",
       "      <td>H1</td>\n",
       "      <td>6</td>\n",
       "      <td>1</td>\n",
       "    </tr>\n",
       "    <tr>\n",
       "      <th>29</th>\n",
       "      <td>1</td>\n",
       "      <td>H2</td>\n",
       "      <td>0</td>\n",
       "      <td>0</td>\n",
       "    </tr>\n",
       "    <tr>\n",
       "      <th>30</th>\n",
       "      <td>1</td>\n",
       "      <td>H2</td>\n",
       "      <td>1</td>\n",
       "      <td>1</td>\n",
       "    </tr>\n",
       "    <tr>\n",
       "      <th>31</th>\n",
       "      <td>1</td>\n",
       "      <td>H2</td>\n",
       "      <td>2</td>\n",
       "      <td>1</td>\n",
       "    </tr>\n",
       "    <tr>\n",
       "      <th>32</th>\n",
       "      <td>1</td>\n",
       "      <td>H2</td>\n",
       "      <td>3</td>\n",
       "      <td>1</td>\n",
       "    </tr>\n",
       "    <tr>\n",
       "      <th>33</th>\n",
       "      <td>1</td>\n",
       "      <td>H2</td>\n",
       "      <td>4</td>\n",
       "      <td>1</td>\n",
       "    </tr>\n",
       "    <tr>\n",
       "      <th>34</th>\n",
       "      <td>1</td>\n",
       "      <td>H2</td>\n",
       "      <td>5</td>\n",
       "      <td>1</td>\n",
       "    </tr>\n",
       "    <tr>\n",
       "      <th>35</th>\n",
       "      <td>1</td>\n",
       "      <td>H2</td>\n",
       "      <td>6</td>\n",
       "      <td>1</td>\n",
       "    </tr>\n",
       "    <tr>\n",
       "      <th>36</th>\n",
       "      <td>1</td>\n",
       "      <td>H3</td>\n",
       "      <td>0</td>\n",
       "      <td>0</td>\n",
       "    </tr>\n",
       "    <tr>\n",
       "      <th>37</th>\n",
       "      <td>1</td>\n",
       "      <td>H3</td>\n",
       "      <td>1</td>\n",
       "      <td>1</td>\n",
       "    </tr>\n",
       "    <tr>\n",
       "      <th>38</th>\n",
       "      <td>1</td>\n",
       "      <td>H3</td>\n",
       "      <td>2</td>\n",
       "      <td>1</td>\n",
       "    </tr>\n",
       "    <tr>\n",
       "      <th>39</th>\n",
       "      <td>1</td>\n",
       "      <td>H3</td>\n",
       "      <td>3</td>\n",
       "      <td>1</td>\n",
       "    </tr>\n",
       "    <tr>\n",
       "      <th>40</th>\n",
       "      <td>1</td>\n",
       "      <td>H3</td>\n",
       "      <td>4</td>\n",
       "      <td>1</td>\n",
       "    </tr>\n",
       "    <tr>\n",
       "      <th>41</th>\n",
       "      <td>1</td>\n",
       "      <td>H3</td>\n",
       "      <td>5</td>\n",
       "      <td>1</td>\n",
       "    </tr>\n",
       "    <tr>\n",
       "      <th>42</th>\n",
       "      <td>1</td>\n",
       "      <td>H3</td>\n",
       "      <td>6</td>\n",
       "      <td>1</td>\n",
       "    </tr>\n",
       "    <tr>\n",
       "      <th>43</th>\n",
       "      <td>2</td>\n",
       "      <td>H1</td>\n",
       "      <td>0</td>\n",
       "      <td>1</td>\n",
       "    </tr>\n",
       "    <tr>\n",
       "      <th>44</th>\n",
       "      <td>2</td>\n",
       "      <td>H1</td>\n",
       "      <td>1</td>\n",
       "      <td>1</td>\n",
       "    </tr>\n",
       "    <tr>\n",
       "      <th>45</th>\n",
       "      <td>2</td>\n",
       "      <td>H1</td>\n",
       "      <td>2</td>\n",
       "      <td>1</td>\n",
       "    </tr>\n",
       "    <tr>\n",
       "      <th>46</th>\n",
       "      <td>2</td>\n",
       "      <td>H1</td>\n",
       "      <td>3</td>\n",
       "      <td>1</td>\n",
       "    </tr>\n",
       "    <tr>\n",
       "      <th>47</th>\n",
       "      <td>2</td>\n",
       "      <td>H1</td>\n",
       "      <td>4</td>\n",
       "      <td>1</td>\n",
       "    </tr>\n",
       "    <tr>\n",
       "      <th>48</th>\n",
       "      <td>2</td>\n",
       "      <td>H1</td>\n",
       "      <td>5</td>\n",
       "      <td>1</td>\n",
       "    </tr>\n",
       "    <tr>\n",
       "      <th>49</th>\n",
       "      <td>2</td>\n",
       "      <td>H1</td>\n",
       "      <td>6</td>\n",
       "      <td>1</td>\n",
       "    </tr>\n",
       "    <tr>\n",
       "      <th>50</th>\n",
       "      <td>2</td>\n",
       "      <td>H2</td>\n",
       "      <td>0</td>\n",
       "      <td>1</td>\n",
       "    </tr>\n",
       "    <tr>\n",
       "      <th>51</th>\n",
       "      <td>2</td>\n",
       "      <td>H2</td>\n",
       "      <td>1</td>\n",
       "      <td>1</td>\n",
       "    </tr>\n",
       "    <tr>\n",
       "      <th>52</th>\n",
       "      <td>2</td>\n",
       "      <td>H2</td>\n",
       "      <td>2</td>\n",
       "      <td>1</td>\n",
       "    </tr>\n",
       "    <tr>\n",
       "      <th>53</th>\n",
       "      <td>2</td>\n",
       "      <td>H2</td>\n",
       "      <td>3</td>\n",
       "      <td>1</td>\n",
       "    </tr>\n",
       "    <tr>\n",
       "      <th>54</th>\n",
       "      <td>2</td>\n",
       "      <td>H2</td>\n",
       "      <td>4</td>\n",
       "      <td>1</td>\n",
       "    </tr>\n",
       "    <tr>\n",
       "      <th>55</th>\n",
       "      <td>2</td>\n",
       "      <td>H2</td>\n",
       "      <td>5</td>\n",
       "      <td>1</td>\n",
       "    </tr>\n",
       "    <tr>\n",
       "      <th>56</th>\n",
       "      <td>2</td>\n",
       "      <td>H2</td>\n",
       "      <td>6</td>\n",
       "      <td>1</td>\n",
       "    </tr>\n",
       "    <tr>\n",
       "      <th>57</th>\n",
       "      <td>2</td>\n",
       "      <td>H3</td>\n",
       "      <td>0</td>\n",
       "      <td>0</td>\n",
       "    </tr>\n",
       "    <tr>\n",
       "      <th>58</th>\n",
       "      <td>2</td>\n",
       "      <td>H3</td>\n",
       "      <td>1</td>\n",
       "      <td>1</td>\n",
       "    </tr>\n",
       "    <tr>\n",
       "      <th>59</th>\n",
       "      <td>2</td>\n",
       "      <td>H3</td>\n",
       "      <td>2</td>\n",
       "      <td>1</td>\n",
       "    </tr>\n",
       "    <tr>\n",
       "      <th>60</th>\n",
       "      <td>2</td>\n",
       "      <td>H3</td>\n",
       "      <td>3</td>\n",
       "      <td>1</td>\n",
       "    </tr>\n",
       "    <tr>\n",
       "      <th>61</th>\n",
       "      <td>2</td>\n",
       "      <td>H3</td>\n",
       "      <td>4</td>\n",
       "      <td>1</td>\n",
       "    </tr>\n",
       "    <tr>\n",
       "      <th>62</th>\n",
       "      <td>2</td>\n",
       "      <td>H3</td>\n",
       "      <td>5</td>\n",
       "      <td>1</td>\n",
       "    </tr>\n",
       "    <tr>\n",
       "      <th>63</th>\n",
       "      <td>2</td>\n",
       "      <td>H3</td>\n",
       "      <td>6</td>\n",
       "      <td>1</td>\n",
       "    </tr>\n",
       "    <tr>\n",
       "      <th>64</th>\n",
       "      <td>3</td>\n",
       "      <td>H1</td>\n",
       "      <td>0</td>\n",
       "      <td>0</td>\n",
       "    </tr>\n",
       "    <tr>\n",
       "      <th>65</th>\n",
       "      <td>3</td>\n",
       "      <td>H1</td>\n",
       "      <td>1</td>\n",
       "      <td>1</td>\n",
       "    </tr>\n",
       "    <tr>\n",
       "      <th>66</th>\n",
       "      <td>3</td>\n",
       "      <td>H1</td>\n",
       "      <td>2</td>\n",
       "      <td>1</td>\n",
       "    </tr>\n",
       "    <tr>\n",
       "      <th>67</th>\n",
       "      <td>3</td>\n",
       "      <td>H1</td>\n",
       "      <td>3</td>\n",
       "      <td>1</td>\n",
       "    </tr>\n",
       "    <tr>\n",
       "      <th>68</th>\n",
       "      <td>3</td>\n",
       "      <td>H1</td>\n",
       "      <td>4</td>\n",
       "      <td>1</td>\n",
       "    </tr>\n",
       "    <tr>\n",
       "      <th>69</th>\n",
       "      <td>3</td>\n",
       "      <td>H1</td>\n",
       "      <td>5</td>\n",
       "      <td>1</td>\n",
       "    </tr>\n",
       "    <tr>\n",
       "      <th>70</th>\n",
       "      <td>3</td>\n",
       "      <td>H1</td>\n",
       "      <td>6</td>\n",
       "      <td>1</td>\n",
       "    </tr>\n",
       "    <tr>\n",
       "      <th>71</th>\n",
       "      <td>3</td>\n",
       "      <td>H2</td>\n",
       "      <td>0</td>\n",
       "      <td>0</td>\n",
       "    </tr>\n",
       "    <tr>\n",
       "      <th>72</th>\n",
       "      <td>3</td>\n",
       "      <td>H2</td>\n",
       "      <td>1</td>\n",
       "      <td>1</td>\n",
       "    </tr>\n",
       "    <tr>\n",
       "      <th>73</th>\n",
       "      <td>3</td>\n",
       "      <td>H2</td>\n",
       "      <td>2</td>\n",
       "      <td>1</td>\n",
       "    </tr>\n",
       "    <tr>\n",
       "      <th>74</th>\n",
       "      <td>3</td>\n",
       "      <td>H2</td>\n",
       "      <td>3</td>\n",
       "      <td>1</td>\n",
       "    </tr>\n",
       "    <tr>\n",
       "      <th>75</th>\n",
       "      <td>3</td>\n",
       "      <td>H2</td>\n",
       "      <td>4</td>\n",
       "      <td>1</td>\n",
       "    </tr>\n",
       "    <tr>\n",
       "      <th>76</th>\n",
       "      <td>3</td>\n",
       "      <td>H2</td>\n",
       "      <td>5</td>\n",
       "      <td>1</td>\n",
       "    </tr>\n",
       "    <tr>\n",
       "      <th>77</th>\n",
       "      <td>3</td>\n",
       "      <td>H2</td>\n",
       "      <td>6</td>\n",
       "      <td>1</td>\n",
       "    </tr>\n",
       "    <tr>\n",
       "      <th>78</th>\n",
       "      <td>3</td>\n",
       "      <td>H3</td>\n",
       "      <td>0</td>\n",
       "      <td>1</td>\n",
       "    </tr>\n",
       "    <tr>\n",
       "      <th>79</th>\n",
       "      <td>3</td>\n",
       "      <td>H3</td>\n",
       "      <td>1</td>\n",
       "      <td>1</td>\n",
       "    </tr>\n",
       "    <tr>\n",
       "      <th>80</th>\n",
       "      <td>3</td>\n",
       "      <td>H3</td>\n",
       "      <td>2</td>\n",
       "      <td>1</td>\n",
       "    </tr>\n",
       "    <tr>\n",
       "      <th>81</th>\n",
       "      <td>3</td>\n",
       "      <td>H3</td>\n",
       "      <td>3</td>\n",
       "      <td>1</td>\n",
       "    </tr>\n",
       "    <tr>\n",
       "      <th>82</th>\n",
       "      <td>3</td>\n",
       "      <td>H3</td>\n",
       "      <td>4</td>\n",
       "      <td>1</td>\n",
       "    </tr>\n",
       "    <tr>\n",
       "      <th>83</th>\n",
       "      <td>3</td>\n",
       "      <td>H3</td>\n",
       "      <td>5</td>\n",
       "      <td>1</td>\n",
       "    </tr>\n",
       "    <tr>\n",
       "      <th>84</th>\n",
       "      <td>3</td>\n",
       "      <td>H3</td>\n",
       "      <td>6</td>\n",
       "      <td>1</td>\n",
       "    </tr>\n",
       "  </tbody>\n",
       "</table>\n",
       "</div>"
      ],
      "text/plain": [
       "    x   h  t value\n",
       "1   0  H1  0     0\n",
       "2   0  H1  1     1\n",
       "3   0  H1  2     1\n",
       "4   0  H1  3     1\n",
       "5   0  H1  4     1\n",
       "6   0  H1  5     1\n",
       "7   0  H1  6     1\n",
       "8   0  H2  0     0\n",
       "9   0  H2  1     1\n",
       "10  0  H2  2     1\n",
       "11  0  H2  3     1\n",
       "12  0  H2  4     1\n",
       "13  0  H2  5     1\n",
       "14  0  H2  6     1\n",
       "15  0  H3  0     0\n",
       "16  0  H3  1     1\n",
       "17  0  H3  2     1\n",
       "18  0  H3  3     1\n",
       "19  0  H3  4     1\n",
       "20  0  H3  5     1\n",
       "21  0  H3  6     1\n",
       "22  1  H1  0     0\n",
       "23  1  H1  1     1\n",
       "24  1  H1  2     1\n",
       "25  1  H1  3     1\n",
       "26  1  H1  4     1\n",
       "27  1  H1  5     1\n",
       "28  1  H1  6     1\n",
       "29  1  H2  0     0\n",
       "30  1  H2  1     1\n",
       "31  1  H2  2     1\n",
       "32  1  H2  3     1\n",
       "33  1  H2  4     1\n",
       "34  1  H2  5     1\n",
       "35  1  H2  6     1\n",
       "36  1  H3  0     0\n",
       "37  1  H3  1     1\n",
       "38  1  H3  2     1\n",
       "39  1  H3  3     1\n",
       "40  1  H3  4     1\n",
       "41  1  H3  5     1\n",
       "42  1  H3  6     1\n",
       "43  2  H1  0     1\n",
       "44  2  H1  1     1\n",
       "45  2  H1  2     1\n",
       "46  2  H1  3     1\n",
       "47  2  H1  4     1\n",
       "48  2  H1  5     1\n",
       "49  2  H1  6     1\n",
       "50  2  H2  0     1\n",
       "51  2  H2  1     1\n",
       "52  2  H2  2     1\n",
       "53  2  H2  3     1\n",
       "54  2  H2  4     1\n",
       "55  2  H2  5     1\n",
       "56  2  H2  6     1\n",
       "57  2  H3  0     0\n",
       "58  2  H3  1     1\n",
       "59  2  H3  2     1\n",
       "60  2  H3  3     1\n",
       "61  2  H3  4     1\n",
       "62  2  H3  5     1\n",
       "63  2  H3  6     1\n",
       "64  3  H1  0     0\n",
       "65  3  H1  1     1\n",
       "66  3  H1  2     1\n",
       "67  3  H1  3     1\n",
       "68  3  H1  4     1\n",
       "69  3  H1  5     1\n",
       "70  3  H1  6     1\n",
       "71  3  H2  0     0\n",
       "72  3  H2  1     1\n",
       "73  3  H2  2     1\n",
       "74  3  H2  3     1\n",
       "75  3  H2  4     1\n",
       "76  3  H2  5     1\n",
       "77  3  H2  6     1\n",
       "78  3  H3  0     1\n",
       "79  3  H3  1     1\n",
       "80  3  H3  2     1\n",
       "81  3  H3  3     1\n",
       "82  3  H3  4     1\n",
       "83  3  H3  5     1\n",
       "84  3  H3  6     1"
      ]
     },
     "execution_count": 9,
     "metadata": {},
     "output_type": "execute_result"
    }
   ],
   "source": [
    "df"
   ]
  },
  {
   "cell_type": "code",
   "execution_count": 5,
   "metadata": {},
   "outputs": [],
   "source": [
    "import plotly.express as px\n",
    "import pandas as pd\n",
    "import re\n",
    "regex = r\"scheduling\\[(\\w+),(\\w+),(\\w+)\\]\""
   ]
  },
  {
   "cell_type": "code",
   "execution_count": 7,
   "metadata": {},
   "outputs": [],
   "source": [
    "df = pd.DataFrame(columns=['x','h','t','value'])\n",
    "solution = solutions[0].decision_vars"
   ]
  },
  {
   "cell_type": "code",
   "execution_count": 7,
   "metadata": {},
   "outputs": [
    {
     "data": {
      "text/html": [
       "<div>\n",
       "<style scoped>\n",
       "    .dataframe tbody tr th:only-of-type {\n",
       "        vertical-align: middle;\n",
       "    }\n",
       "\n",
       "    .dataframe tbody tr th {\n",
       "        vertical-align: top;\n",
       "    }\n",
       "\n",
       "    .dataframe thead th {\n",
       "        text-align: right;\n",
       "    }\n",
       "</style>\n",
       "<table border=\"1\" class=\"dataframe\">\n",
       "  <thead>\n",
       "    <tr style=\"text-align: right;\">\n",
       "      <th></th>\n",
       "      <th>x</th>\n",
       "      <th>h</th>\n",
       "      <th>t</th>\n",
       "      <th>value</th>\n",
       "    </tr>\n",
       "  </thead>\n",
       "  <tbody>\n",
       "    <tr>\n",
       "      <th>1</th>\n",
       "      <td>0</td>\n",
       "      <td>H1</td>\n",
       "      <td>0</td>\n",
       "      <td>-0.0</td>\n",
       "    </tr>\n",
       "    <tr>\n",
       "      <th>2</th>\n",
       "      <td>0</td>\n",
       "      <td>H1</td>\n",
       "      <td>1</td>\n",
       "      <td>0.0</td>\n",
       "    </tr>\n",
       "    <tr>\n",
       "      <th>3</th>\n",
       "      <td>0</td>\n",
       "      <td>H1</td>\n",
       "      <td>2</td>\n",
       "      <td>0.0</td>\n",
       "    </tr>\n",
       "    <tr>\n",
       "      <th>4</th>\n",
       "      <td>0</td>\n",
       "      <td>H1</td>\n",
       "      <td>3</td>\n",
       "      <td>0.0</td>\n",
       "    </tr>\n",
       "    <tr>\n",
       "      <th>5</th>\n",
       "      <td>0</td>\n",
       "      <td>H1</td>\n",
       "      <td>4</td>\n",
       "      <td>0.0</td>\n",
       "    </tr>\n",
       "    <tr>\n",
       "      <th>6</th>\n",
       "      <td>0</td>\n",
       "      <td>H1</td>\n",
       "      <td>5</td>\n",
       "      <td>0.0</td>\n",
       "    </tr>\n",
       "    <tr>\n",
       "      <th>7</th>\n",
       "      <td>0</td>\n",
       "      <td>H1</td>\n",
       "      <td>6</td>\n",
       "      <td>0.0</td>\n",
       "    </tr>\n",
       "    <tr>\n",
       "      <th>8</th>\n",
       "      <td>0</td>\n",
       "      <td>H2</td>\n",
       "      <td>0</td>\n",
       "      <td>-0.0</td>\n",
       "    </tr>\n",
       "    <tr>\n",
       "      <th>9</th>\n",
       "      <td>0</td>\n",
       "      <td>H2</td>\n",
       "      <td>1</td>\n",
       "      <td>0.235582</td>\n",
       "    </tr>\n",
       "    <tr>\n",
       "      <th>10</th>\n",
       "      <td>0</td>\n",
       "      <td>H2</td>\n",
       "      <td>2</td>\n",
       "      <td>0.000015</td>\n",
       "    </tr>\n",
       "    <tr>\n",
       "      <th>11</th>\n",
       "      <td>0</td>\n",
       "      <td>H2</td>\n",
       "      <td>3</td>\n",
       "      <td>0.000011</td>\n",
       "    </tr>\n",
       "    <tr>\n",
       "      <th>12</th>\n",
       "      <td>0</td>\n",
       "      <td>H2</td>\n",
       "      <td>4</td>\n",
       "      <td>0.000013</td>\n",
       "    </tr>\n",
       "    <tr>\n",
       "      <th>13</th>\n",
       "      <td>0</td>\n",
       "      <td>H2</td>\n",
       "      <td>5</td>\n",
       "      <td>0.000631</td>\n",
       "    </tr>\n",
       "    <tr>\n",
       "      <th>14</th>\n",
       "      <td>0</td>\n",
       "      <td>H2</td>\n",
       "      <td>6</td>\n",
       "      <td>0.000654</td>\n",
       "    </tr>\n",
       "    <tr>\n",
       "      <th>15</th>\n",
       "      <td>0</td>\n",
       "      <td>H3</td>\n",
       "      <td>0</td>\n",
       "      <td>-0.0</td>\n",
       "    </tr>\n",
       "    <tr>\n",
       "      <th>16</th>\n",
       "      <td>0</td>\n",
       "      <td>H3</td>\n",
       "      <td>1</td>\n",
       "      <td>0.764418</td>\n",
       "    </tr>\n",
       "    <tr>\n",
       "      <th>17</th>\n",
       "      <td>0</td>\n",
       "      <td>H3</td>\n",
       "      <td>2</td>\n",
       "      <td>0.999985</td>\n",
       "    </tr>\n",
       "    <tr>\n",
       "      <th>18</th>\n",
       "      <td>0</td>\n",
       "      <td>H3</td>\n",
       "      <td>3</td>\n",
       "      <td>0.999989</td>\n",
       "    </tr>\n",
       "    <tr>\n",
       "      <th>19</th>\n",
       "      <td>0</td>\n",
       "      <td>H3</td>\n",
       "      <td>4</td>\n",
       "      <td>0.999987</td>\n",
       "    </tr>\n",
       "    <tr>\n",
       "      <th>20</th>\n",
       "      <td>0</td>\n",
       "      <td>H3</td>\n",
       "      <td>5</td>\n",
       "      <td>0.999369</td>\n",
       "    </tr>\n",
       "    <tr>\n",
       "      <th>21</th>\n",
       "      <td>0</td>\n",
       "      <td>H3</td>\n",
       "      <td>6</td>\n",
       "      <td>0.999346</td>\n",
       "    </tr>\n",
       "    <tr>\n",
       "      <th>22</th>\n",
       "      <td>1</td>\n",
       "      <td>H1</td>\n",
       "      <td>0</td>\n",
       "      <td>-0.0</td>\n",
       "    </tr>\n",
       "    <tr>\n",
       "      <th>23</th>\n",
       "      <td>1</td>\n",
       "      <td>H1</td>\n",
       "      <td>1</td>\n",
       "      <td>0.0</td>\n",
       "    </tr>\n",
       "    <tr>\n",
       "      <th>24</th>\n",
       "      <td>1</td>\n",
       "      <td>H1</td>\n",
       "      <td>2</td>\n",
       "      <td>0.0</td>\n",
       "    </tr>\n",
       "    <tr>\n",
       "      <th>25</th>\n",
       "      <td>1</td>\n",
       "      <td>H1</td>\n",
       "      <td>3</td>\n",
       "      <td>0.0</td>\n",
       "    </tr>\n",
       "    <tr>\n",
       "      <th>26</th>\n",
       "      <td>1</td>\n",
       "      <td>H1</td>\n",
       "      <td>4</td>\n",
       "      <td>0.0</td>\n",
       "    </tr>\n",
       "    <tr>\n",
       "      <th>27</th>\n",
       "      <td>1</td>\n",
       "      <td>H1</td>\n",
       "      <td>5</td>\n",
       "      <td>0.0</td>\n",
       "    </tr>\n",
       "    <tr>\n",
       "      <th>28</th>\n",
       "      <td>1</td>\n",
       "      <td>H1</td>\n",
       "      <td>6</td>\n",
       "      <td>0.0</td>\n",
       "    </tr>\n",
       "    <tr>\n",
       "      <th>29</th>\n",
       "      <td>1</td>\n",
       "      <td>H2</td>\n",
       "      <td>0</td>\n",
       "      <td>-0.0</td>\n",
       "    </tr>\n",
       "    <tr>\n",
       "      <th>30</th>\n",
       "      <td>1</td>\n",
       "      <td>H2</td>\n",
       "      <td>1</td>\n",
       "      <td>0.764042</td>\n",
       "    </tr>\n",
       "    <tr>\n",
       "      <th>31</th>\n",
       "      <td>1</td>\n",
       "      <td>H2</td>\n",
       "      <td>2</td>\n",
       "      <td>0.999985</td>\n",
       "    </tr>\n",
       "    <tr>\n",
       "      <th>32</th>\n",
       "      <td>1</td>\n",
       "      <td>H2</td>\n",
       "      <td>3</td>\n",
       "      <td>0.999989</td>\n",
       "    </tr>\n",
       "    <tr>\n",
       "      <th>33</th>\n",
       "      <td>1</td>\n",
       "      <td>H2</td>\n",
       "      <td>4</td>\n",
       "      <td>0.999985</td>\n",
       "    </tr>\n",
       "    <tr>\n",
       "      <th>34</th>\n",
       "      <td>1</td>\n",
       "      <td>H2</td>\n",
       "      <td>5</td>\n",
       "      <td>0.999367</td>\n",
       "    </tr>\n",
       "    <tr>\n",
       "      <th>35</th>\n",
       "      <td>1</td>\n",
       "      <td>H2</td>\n",
       "      <td>6</td>\n",
       "      <td>0.999324</td>\n",
       "    </tr>\n",
       "    <tr>\n",
       "      <th>36</th>\n",
       "      <td>1</td>\n",
       "      <td>H3</td>\n",
       "      <td>0</td>\n",
       "      <td>-0.0</td>\n",
       "    </tr>\n",
       "    <tr>\n",
       "      <th>37</th>\n",
       "      <td>1</td>\n",
       "      <td>H3</td>\n",
       "      <td>1</td>\n",
       "      <td>0.235958</td>\n",
       "    </tr>\n",
       "    <tr>\n",
       "      <th>38</th>\n",
       "      <td>1</td>\n",
       "      <td>H3</td>\n",
       "      <td>2</td>\n",
       "      <td>0.000015</td>\n",
       "    </tr>\n",
       "    <tr>\n",
       "      <th>39</th>\n",
       "      <td>1</td>\n",
       "      <td>H3</td>\n",
       "      <td>3</td>\n",
       "      <td>0.000011</td>\n",
       "    </tr>\n",
       "    <tr>\n",
       "      <th>40</th>\n",
       "      <td>1</td>\n",
       "      <td>H3</td>\n",
       "      <td>4</td>\n",
       "      <td>0.000015</td>\n",
       "    </tr>\n",
       "    <tr>\n",
       "      <th>41</th>\n",
       "      <td>1</td>\n",
       "      <td>H3</td>\n",
       "      <td>5</td>\n",
       "      <td>0.000633</td>\n",
       "    </tr>\n",
       "    <tr>\n",
       "      <th>42</th>\n",
       "      <td>1</td>\n",
       "      <td>H3</td>\n",
       "      <td>6</td>\n",
       "      <td>0.000676</td>\n",
       "    </tr>\n",
       "    <tr>\n",
       "      <th>43</th>\n",
       "      <td>2</td>\n",
       "      <td>H1</td>\n",
       "      <td>0</td>\n",
       "      <td>0.0</td>\n",
       "    </tr>\n",
       "    <tr>\n",
       "      <th>44</th>\n",
       "      <td>2</td>\n",
       "      <td>H1</td>\n",
       "      <td>1</td>\n",
       "      <td>0.0</td>\n",
       "    </tr>\n",
       "    <tr>\n",
       "      <th>45</th>\n",
       "      <td>2</td>\n",
       "      <td>H1</td>\n",
       "      <td>2</td>\n",
       "      <td>0.0</td>\n",
       "    </tr>\n",
       "    <tr>\n",
       "      <th>46</th>\n",
       "      <td>2</td>\n",
       "      <td>H1</td>\n",
       "      <td>3</td>\n",
       "      <td>0.0</td>\n",
       "    </tr>\n",
       "    <tr>\n",
       "      <th>47</th>\n",
       "      <td>2</td>\n",
       "      <td>H1</td>\n",
       "      <td>4</td>\n",
       "      <td>0.0</td>\n",
       "    </tr>\n",
       "    <tr>\n",
       "      <th>48</th>\n",
       "      <td>2</td>\n",
       "      <td>H1</td>\n",
       "      <td>5</td>\n",
       "      <td>0.0</td>\n",
       "    </tr>\n",
       "    <tr>\n",
       "      <th>49</th>\n",
       "      <td>2</td>\n",
       "      <td>H1</td>\n",
       "      <td>6</td>\n",
       "      <td>0.0</td>\n",
       "    </tr>\n",
       "    <tr>\n",
       "      <th>50</th>\n",
       "      <td>2</td>\n",
       "      <td>H2</td>\n",
       "      <td>0</td>\n",
       "      <td>0.0</td>\n",
       "    </tr>\n",
       "    <tr>\n",
       "      <th>51</th>\n",
       "      <td>2</td>\n",
       "      <td>H2</td>\n",
       "      <td>1</td>\n",
       "      <td>0.234829</td>\n",
       "    </tr>\n",
       "    <tr>\n",
       "      <th>52</th>\n",
       "      <td>2</td>\n",
       "      <td>H2</td>\n",
       "      <td>2</td>\n",
       "      <td>0.000016</td>\n",
       "    </tr>\n",
       "    <tr>\n",
       "      <th>53</th>\n",
       "      <td>2</td>\n",
       "      <td>H2</td>\n",
       "      <td>3</td>\n",
       "      <td>0.000011</td>\n",
       "    </tr>\n",
       "    <tr>\n",
       "      <th>54</th>\n",
       "      <td>2</td>\n",
       "      <td>H2</td>\n",
       "      <td>4</td>\n",
       "      <td>0.000003</td>\n",
       "    </tr>\n",
       "    <tr>\n",
       "      <th>55</th>\n",
       "      <td>2</td>\n",
       "      <td>H2</td>\n",
       "      <td>5</td>\n",
       "      <td>0.000639</td>\n",
       "    </tr>\n",
       "    <tr>\n",
       "      <th>56</th>\n",
       "      <td>2</td>\n",
       "      <td>H2</td>\n",
       "      <td>6</td>\n",
       "      <td>0.000663</td>\n",
       "    </tr>\n",
       "    <tr>\n",
       "      <th>57</th>\n",
       "      <td>2</td>\n",
       "      <td>H3</td>\n",
       "      <td>0</td>\n",
       "      <td>-0.0</td>\n",
       "    </tr>\n",
       "    <tr>\n",
       "      <th>58</th>\n",
       "      <td>2</td>\n",
       "      <td>H3</td>\n",
       "      <td>1</td>\n",
       "      <td>0.765171</td>\n",
       "    </tr>\n",
       "    <tr>\n",
       "      <th>59</th>\n",
       "      <td>2</td>\n",
       "      <td>H3</td>\n",
       "      <td>2</td>\n",
       "      <td>0.999984</td>\n",
       "    </tr>\n",
       "    <tr>\n",
       "      <th>60</th>\n",
       "      <td>2</td>\n",
       "      <td>H3</td>\n",
       "      <td>3</td>\n",
       "      <td>0.999989</td>\n",
       "    </tr>\n",
       "    <tr>\n",
       "      <th>61</th>\n",
       "      <td>2</td>\n",
       "      <td>H3</td>\n",
       "      <td>4</td>\n",
       "      <td>0.999997</td>\n",
       "    </tr>\n",
       "    <tr>\n",
       "      <th>62</th>\n",
       "      <td>2</td>\n",
       "      <td>H3</td>\n",
       "      <td>5</td>\n",
       "      <td>0.999361</td>\n",
       "    </tr>\n",
       "    <tr>\n",
       "      <th>63</th>\n",
       "      <td>2</td>\n",
       "      <td>H3</td>\n",
       "      <td>6</td>\n",
       "      <td>0.999337</td>\n",
       "    </tr>\n",
       "    <tr>\n",
       "      <th>64</th>\n",
       "      <td>3</td>\n",
       "      <td>H1</td>\n",
       "      <td>0</td>\n",
       "      <td>-0.0</td>\n",
       "    </tr>\n",
       "    <tr>\n",
       "      <th>65</th>\n",
       "      <td>3</td>\n",
       "      <td>H1</td>\n",
       "      <td>1</td>\n",
       "      <td>0.0</td>\n",
       "    </tr>\n",
       "    <tr>\n",
       "      <th>66</th>\n",
       "      <td>3</td>\n",
       "      <td>H1</td>\n",
       "      <td>2</td>\n",
       "      <td>0.0</td>\n",
       "    </tr>\n",
       "    <tr>\n",
       "      <th>67</th>\n",
       "      <td>3</td>\n",
       "      <td>H1</td>\n",
       "      <td>3</td>\n",
       "      <td>0.0</td>\n",
       "    </tr>\n",
       "    <tr>\n",
       "      <th>68</th>\n",
       "      <td>3</td>\n",
       "      <td>H1</td>\n",
       "      <td>4</td>\n",
       "      <td>0.0</td>\n",
       "    </tr>\n",
       "    <tr>\n",
       "      <th>69</th>\n",
       "      <td>3</td>\n",
       "      <td>H1</td>\n",
       "      <td>5</td>\n",
       "      <td>0.0</td>\n",
       "    </tr>\n",
       "    <tr>\n",
       "      <th>70</th>\n",
       "      <td>3</td>\n",
       "      <td>H1</td>\n",
       "      <td>6</td>\n",
       "      <td>0.0</td>\n",
       "    </tr>\n",
       "    <tr>\n",
       "      <th>71</th>\n",
       "      <td>3</td>\n",
       "      <td>H2</td>\n",
       "      <td>0</td>\n",
       "      <td>-0.0</td>\n",
       "    </tr>\n",
       "    <tr>\n",
       "      <th>72</th>\n",
       "      <td>3</td>\n",
       "      <td>H2</td>\n",
       "      <td>1</td>\n",
       "      <td>0.764504</td>\n",
       "    </tr>\n",
       "    <tr>\n",
       "      <th>73</th>\n",
       "      <td>3</td>\n",
       "      <td>H2</td>\n",
       "      <td>2</td>\n",
       "      <td>0.999984</td>\n",
       "    </tr>\n",
       "    <tr>\n",
       "      <th>74</th>\n",
       "      <td>3</td>\n",
       "      <td>H2</td>\n",
       "      <td>3</td>\n",
       "      <td>0.999989</td>\n",
       "    </tr>\n",
       "    <tr>\n",
       "      <th>75</th>\n",
       "      <td>3</td>\n",
       "      <td>H2</td>\n",
       "      <td>4</td>\n",
       "      <td>0.999985</td>\n",
       "    </tr>\n",
       "    <tr>\n",
       "      <th>76</th>\n",
       "      <td>3</td>\n",
       "      <td>H2</td>\n",
       "      <td>5</td>\n",
       "      <td>0.999375</td>\n",
       "    </tr>\n",
       "    <tr>\n",
       "      <th>77</th>\n",
       "      <td>3</td>\n",
       "      <td>H2</td>\n",
       "      <td>6</td>\n",
       "      <td>0.999325</td>\n",
       "    </tr>\n",
       "    <tr>\n",
       "      <th>78</th>\n",
       "      <td>3</td>\n",
       "      <td>H3</td>\n",
       "      <td>0</td>\n",
       "      <td>0.0</td>\n",
       "    </tr>\n",
       "    <tr>\n",
       "      <th>79</th>\n",
       "      <td>3</td>\n",
       "      <td>H3</td>\n",
       "      <td>1</td>\n",
       "      <td>0.235496</td>\n",
       "    </tr>\n",
       "    <tr>\n",
       "      <th>80</th>\n",
       "      <td>3</td>\n",
       "      <td>H3</td>\n",
       "      <td>2</td>\n",
       "      <td>0.000015</td>\n",
       "    </tr>\n",
       "    <tr>\n",
       "      <th>81</th>\n",
       "      <td>3</td>\n",
       "      <td>H3</td>\n",
       "      <td>3</td>\n",
       "      <td>0.000011</td>\n",
       "    </tr>\n",
       "    <tr>\n",
       "      <th>82</th>\n",
       "      <td>3</td>\n",
       "      <td>H3</td>\n",
       "      <td>4</td>\n",
       "      <td>0.000015</td>\n",
       "    </tr>\n",
       "    <tr>\n",
       "      <th>83</th>\n",
       "      <td>3</td>\n",
       "      <td>H3</td>\n",
       "      <td>5</td>\n",
       "      <td>0.000625</td>\n",
       "    </tr>\n",
       "    <tr>\n",
       "      <th>84</th>\n",
       "      <td>3</td>\n",
       "      <td>H3</td>\n",
       "      <td>6</td>\n",
       "      <td>0.000675</td>\n",
       "    </tr>\n",
       "  </tbody>\n",
       "</table>\n",
       "</div>"
      ],
      "text/plain": [
       "    x   h  t     value\n",
       "1   0  H1  0      -0.0\n",
       "2   0  H1  1       0.0\n",
       "3   0  H1  2       0.0\n",
       "4   0  H1  3       0.0\n",
       "5   0  H1  4       0.0\n",
       "6   0  H1  5       0.0\n",
       "7   0  H1  6       0.0\n",
       "8   0  H2  0      -0.0\n",
       "9   0  H2  1  0.235582\n",
       "10  0  H2  2  0.000015\n",
       "11  0  H2  3  0.000011\n",
       "12  0  H2  4  0.000013\n",
       "13  0  H2  5  0.000631\n",
       "14  0  H2  6  0.000654\n",
       "15  0  H3  0      -0.0\n",
       "16  0  H3  1  0.764418\n",
       "17  0  H3  2  0.999985\n",
       "18  0  H3  3  0.999989\n",
       "19  0  H3  4  0.999987\n",
       "20  0  H3  5  0.999369\n",
       "21  0  H3  6  0.999346\n",
       "22  1  H1  0      -0.0\n",
       "23  1  H1  1       0.0\n",
       "24  1  H1  2       0.0\n",
       "25  1  H1  3       0.0\n",
       "26  1  H1  4       0.0\n",
       "27  1  H1  5       0.0\n",
       "28  1  H1  6       0.0\n",
       "29  1  H2  0      -0.0\n",
       "30  1  H2  1  0.764042\n",
       "31  1  H2  2  0.999985\n",
       "32  1  H2  3  0.999989\n",
       "33  1  H2  4  0.999985\n",
       "34  1  H2  5  0.999367\n",
       "35  1  H2  6  0.999324\n",
       "36  1  H3  0      -0.0\n",
       "37  1  H3  1  0.235958\n",
       "38  1  H3  2  0.000015\n",
       "39  1  H3  3  0.000011\n",
       "40  1  H3  4  0.000015\n",
       "41  1  H3  5  0.000633\n",
       "42  1  H3  6  0.000676\n",
       "43  2  H1  0       0.0\n",
       "44  2  H1  1       0.0\n",
       "45  2  H1  2       0.0\n",
       "46  2  H1  3       0.0\n",
       "47  2  H1  4       0.0\n",
       "48  2  H1  5       0.0\n",
       "49  2  H1  6       0.0\n",
       "50  2  H2  0       0.0\n",
       "51  2  H2  1  0.234829\n",
       "52  2  H2  2  0.000016\n",
       "53  2  H2  3  0.000011\n",
       "54  2  H2  4  0.000003\n",
       "55  2  H2  5  0.000639\n",
       "56  2  H2  6  0.000663\n",
       "57  2  H3  0      -0.0\n",
       "58  2  H3  1  0.765171\n",
       "59  2  H3  2  0.999984\n",
       "60  2  H3  3  0.999989\n",
       "61  2  H3  4  0.999997\n",
       "62  2  H3  5  0.999361\n",
       "63  2  H3  6  0.999337\n",
       "64  3  H1  0      -0.0\n",
       "65  3  H1  1       0.0\n",
       "66  3  H1  2       0.0\n",
       "67  3  H1  3       0.0\n",
       "68  3  H1  4       0.0\n",
       "69  3  H1  5       0.0\n",
       "70  3  H1  6       0.0\n",
       "71  3  H2  0      -0.0\n",
       "72  3  H2  1  0.764504\n",
       "73  3  H2  2  0.999984\n",
       "74  3  H2  3  0.999989\n",
       "75  3  H2  4  0.999985\n",
       "76  3  H2  5  0.999375\n",
       "77  3  H2  6  0.999325\n",
       "78  3  H3  0       0.0\n",
       "79  3  H3  1  0.235496\n",
       "80  3  H3  2  0.000015\n",
       "81  3  H3  3  0.000011\n",
       "82  3  H3  4  0.000015\n",
       "83  3  H3  5  0.000625\n",
       "84  3  H3  6  0.000675"
      ]
     },
     "execution_count": 7,
     "metadata": {},
     "output_type": "execute_result"
    }
   ],
   "source": [
    "pd.options.display.max_rows = 90\n",
    "df"
   ]
  },
  {
   "cell_type": "code",
   "execution_count": 70,
   "metadata": {},
   "outputs": [
    {
     "name": "stdout",
     "output_type": "stream",
     "text": [
      "{'production': 8.0, 'demmand': -36.0}\n",
      "{'production': 7.466666666666667, 'demmand': -22.799999699999997}\n",
      "{'production': 7.199999999999999, 'demmand': -16.2}\n",
      "{'production': 6.8, 'demmand': -7.80000003}\n"
     ]
    }
   ],
   "source": [
    "for i in range(4):\n",
    "    print(solutions[i].obj_values)"
   ]
  },
  {
   "cell_type": "code",
   "execution_count": 8,
   "metadata": {},
   "outputs": [],
   "source": [
    "idx = 0 \n",
    "for  key , value in  solution.items():\n",
    "    columns = re.findall(regex, key)\n",
    "    if columns:\n",
    "        columns = columns[0]\n",
    "    else:\n",
    "        continue\n",
    "    df.loc[idx,:] = list(columns) + [value]\n",
    "    idx+=1\n",
    "# df = df[df['x']=='0']"
   ]
  },
  {
   "cell_type": "code",
   "execution_count": 9,
   "metadata": {},
   "outputs": [
    {
     "data": {
      "text/html": [
       "<div>\n",
       "<style scoped>\n",
       "    .dataframe tbody tr th:only-of-type {\n",
       "        vertical-align: middle;\n",
       "    }\n",
       "\n",
       "    .dataframe tbody tr th {\n",
       "        vertical-align: top;\n",
       "    }\n",
       "\n",
       "    .dataframe thead th {\n",
       "        text-align: right;\n",
       "    }\n",
       "</style>\n",
       "<table border=\"1\" class=\"dataframe\">\n",
       "  <thead>\n",
       "    <tr style=\"text-align: right;\">\n",
       "      <th></th>\n",
       "      <th>x</th>\n",
       "      <th>t</th>\n",
       "      <th>value</th>\n",
       "    </tr>\n",
       "    <tr>\n",
       "      <th>h</th>\n",
       "      <th></th>\n",
       "      <th></th>\n",
       "      <th></th>\n",
       "    </tr>\n",
       "  </thead>\n",
       "  <tbody>\n",
       "    <tr>\n",
       "      <th>H1</th>\n",
       "      <td>0000000111111122222223333333</td>\n",
       "      <td>0123456012345601234560123456</td>\n",
       "      <td>0.0</td>\n",
       "    </tr>\n",
       "    <tr>\n",
       "      <th>H2</th>\n",
       "      <td>0000000111111122222223333333</td>\n",
       "      <td>0123456012345601234560123456</td>\n",
       "      <td>0.0</td>\n",
       "    </tr>\n",
       "    <tr>\n",
       "      <th>H3</th>\n",
       "      <td>0000000111111122222223333333</td>\n",
       "      <td>0123456012345601234560123456</td>\n",
       "      <td>0.0</td>\n",
       "    </tr>\n",
       "  </tbody>\n",
       "</table>\n",
       "</div>"
      ],
      "text/plain": [
       "                               x                             t value\n",
       "h                                                                   \n",
       "H1  0000000111111122222223333333  0123456012345601234560123456   0.0\n",
       "H2  0000000111111122222223333333  0123456012345601234560123456   0.0\n",
       "H3  0000000111111122222223333333  0123456012345601234560123456   0.0"
      ]
     },
     "execution_count": 9,
     "metadata": {},
     "output_type": "execute_result"
    }
   ],
   "source": [
    "df.groupby('h').sum()"
   ]
  },
  {
   "cell_type": "code",
   "execution_count": 11,
   "metadata": {},
   "outputs": [],
   "source": [
    "pd.options.display.max_rows = 90"
   ]
  },
  {
   "cell_type": "code",
   "execution_count": 26,
   "metadata": {},
   "outputs": [
    {
     "data": {
      "application/vnd.plotly.v1+json": {
       "config": {
        "plotlyServerURL": "https://plot.ly"
       },
       "data": [
        {
         "alignmentgroup": "True",
         "customdata": [
          [
           "H1"
          ],
          [
           "H1"
          ],
          [
           "H1"
          ],
          [
           "H1"
          ],
          [
           "H1"
          ],
          [
           "H1"
          ],
          [
           "H1"
          ],
          [
           "H2"
          ],
          [
           "H2"
          ],
          [
           "H2"
          ],
          [
           "H2"
          ],
          [
           "H2"
          ],
          [
           "H2"
          ],
          [
           "H2"
          ],
          [
           "H3"
          ],
          [
           "H3"
          ],
          [
           "H3"
          ],
          [
           "H3"
          ],
          [
           "H3"
          ],
          [
           "H3"
          ],
          [
           "H3"
          ]
         ],
         "hovertemplate": "x=0<br>t=%{x}<br>value=%{y}<br>h=%{customdata[0]}<extra></extra>",
         "legendgroup": "0",
         "marker": {
          "color": "#636efa",
          "pattern": {
           "shape": ""
          }
         },
         "name": "0",
         "offsetgroup": "0",
         "orientation": "v",
         "showlegend": true,
         "textposition": "auto",
         "type": "bar",
         "x": [
          0,
          1,
          2,
          3,
          4,
          5,
          6,
          0,
          1,
          2,
          3,
          4,
          5,
          6,
          0,
          1,
          2,
          3,
          4,
          5,
          6
         ],
         "xaxis": "x",
         "y": [
          0,
          1,
          1,
          1,
          1,
          1,
          0,
          0,
          0,
          0,
          0,
          0,
          0,
          0,
          0,
          0,
          0,
          0,
          0,
          0,
          0
         ],
         "yaxis": "y"
        },
        {
         "alignmentgroup": "True",
         "customdata": [
          [
           "H1"
          ],
          [
           "H1"
          ],
          [
           "H1"
          ],
          [
           "H1"
          ],
          [
           "H1"
          ],
          [
           "H1"
          ],
          [
           "H1"
          ],
          [
           "H2"
          ],
          [
           "H2"
          ],
          [
           "H2"
          ],
          [
           "H2"
          ],
          [
           "H2"
          ],
          [
           "H2"
          ],
          [
           "H2"
          ],
          [
           "H3"
          ],
          [
           "H3"
          ],
          [
           "H3"
          ],
          [
           "H3"
          ],
          [
           "H3"
          ],
          [
           "H3"
          ],
          [
           "H3"
          ]
         ],
         "hovertemplate": "x=1<br>t=%{x}<br>value=%{y}<br>h=%{customdata[0]}<extra></extra>",
         "legendgroup": "1",
         "marker": {
          "color": "#EF553B",
          "pattern": {
           "shape": ""
          }
         },
         "name": "1",
         "offsetgroup": "1",
         "orientation": "v",
         "showlegend": true,
         "textposition": "auto",
         "type": "bar",
         "x": [
          0,
          1,
          2,
          3,
          4,
          5,
          6,
          0,
          1,
          2,
          3,
          4,
          5,
          6,
          0,
          1,
          2,
          3,
          4,
          5,
          6
         ],
         "xaxis": "x",
         "y": [
          0,
          0,
          0,
          0,
          0,
          0,
          0,
          0,
          1,
          1,
          1,
          0,
          0,
          0,
          0,
          0,
          0,
          0,
          0,
          0,
          0
         ],
         "yaxis": "y"
        },
        {
         "alignmentgroup": "True",
         "customdata": [
          [
           "H1"
          ],
          [
           "H1"
          ],
          [
           "H1"
          ],
          [
           "H1"
          ],
          [
           "H1"
          ],
          [
           "H1"
          ],
          [
           "H1"
          ],
          [
           "H2"
          ],
          [
           "H2"
          ],
          [
           "H2"
          ],
          [
           "H2"
          ],
          [
           "H2"
          ],
          [
           "H2"
          ],
          [
           "H2"
          ],
          [
           "H3"
          ],
          [
           "H3"
          ],
          [
           "H3"
          ],
          [
           "H3"
          ],
          [
           "H3"
          ],
          [
           "H3"
          ],
          [
           "H3"
          ]
         ],
         "hovertemplate": "x=2<br>t=%{x}<br>value=%{y}<br>h=%{customdata[0]}<extra></extra>",
         "legendgroup": "2",
         "marker": {
          "color": "#00cc96",
          "pattern": {
           "shape": ""
          }
         },
         "name": "2",
         "offsetgroup": "2",
         "orientation": "v",
         "showlegend": true,
         "textposition": "auto",
         "type": "bar",
         "x": [
          0,
          1,
          2,
          3,
          4,
          5,
          6,
          0,
          1,
          2,
          3,
          4,
          5,
          6,
          0,
          1,
          2,
          3,
          4,
          5,
          6
         ],
         "xaxis": "x",
         "y": [
          0,
          0,
          0,
          0,
          0,
          0,
          0,
          0,
          0,
          0,
          0,
          0,
          0,
          0,
          0,
          1,
          1,
          1,
          0,
          0,
          0
         ],
         "yaxis": "y"
        },
        {
         "alignmentgroup": "True",
         "customdata": [
          [
           "H1"
          ],
          [
           "H1"
          ],
          [
           "H1"
          ],
          [
           "H1"
          ],
          [
           "H1"
          ],
          [
           "H1"
          ],
          [
           "H1"
          ],
          [
           "H2"
          ],
          [
           "H2"
          ],
          [
           "H2"
          ],
          [
           "H2"
          ],
          [
           "H2"
          ],
          [
           "H2"
          ],
          [
           "H2"
          ],
          [
           "H3"
          ],
          [
           "H3"
          ],
          [
           "H3"
          ],
          [
           "H3"
          ],
          [
           "H3"
          ],
          [
           "H3"
          ],
          [
           "H3"
          ]
         ],
         "hovertemplate": "x=3<br>t=%{x}<br>value=%{y}<br>h=%{customdata[0]}<extra></extra>",
         "legendgroup": "3",
         "marker": {
          "color": "#ab63fa",
          "pattern": {
           "shape": ""
          }
         },
         "name": "3",
         "offsetgroup": "3",
         "orientation": "v",
         "showlegend": true,
         "textposition": "auto",
         "type": "bar",
         "x": [
          0,
          1,
          2,
          3,
          4,
          5,
          6,
          0,
          1,
          2,
          3,
          4,
          5,
          6,
          0,
          1,
          2,
          3,
          4,
          5,
          6
         ],
         "xaxis": "x",
         "y": [
          0,
          0,
          0,
          0,
          0,
          0,
          0,
          0,
          1,
          1,
          1,
          0,
          0,
          0,
          0,
          0,
          0,
          0,
          0,
          0,
          0
         ],
         "yaxis": "y"
        }
       ],
       "layout": {
        "bargap": 0,
        "barmode": "relative",
        "legend": {
         "title": {
          "text": "x"
         },
         "tracegroupgap": 0
        },
        "margin": {
         "t": 60
        },
        "template": {
         "data": {
          "bar": [
           {
            "error_x": {
             "color": "#2a3f5f"
            },
            "error_y": {
             "color": "#2a3f5f"
            },
            "marker": {
             "line": {
              "color": "#E5ECF6",
              "width": 0.5
             },
             "pattern": {
              "fillmode": "overlay",
              "size": 10,
              "solidity": 0.2
             }
            },
            "type": "bar"
           }
          ],
          "barpolar": [
           {
            "marker": {
             "line": {
              "color": "#E5ECF6",
              "width": 0.5
             },
             "pattern": {
              "fillmode": "overlay",
              "size": 10,
              "solidity": 0.2
             }
            },
            "type": "barpolar"
           }
          ],
          "carpet": [
           {
            "aaxis": {
             "endlinecolor": "#2a3f5f",
             "gridcolor": "white",
             "linecolor": "white",
             "minorgridcolor": "white",
             "startlinecolor": "#2a3f5f"
            },
            "baxis": {
             "endlinecolor": "#2a3f5f",
             "gridcolor": "white",
             "linecolor": "white",
             "minorgridcolor": "white",
             "startlinecolor": "#2a3f5f"
            },
            "type": "carpet"
           }
          ],
          "choropleth": [
           {
            "colorbar": {
             "outlinewidth": 0,
             "ticks": ""
            },
            "type": "choropleth"
           }
          ],
          "contour": [
           {
            "colorbar": {
             "outlinewidth": 0,
             "ticks": ""
            },
            "colorscale": [
             [
              0,
              "#0d0887"
             ],
             [
              0.1111111111111111,
              "#46039f"
             ],
             [
              0.2222222222222222,
              "#7201a8"
             ],
             [
              0.3333333333333333,
              "#9c179e"
             ],
             [
              0.4444444444444444,
              "#bd3786"
             ],
             [
              0.5555555555555556,
              "#d8576b"
             ],
             [
              0.6666666666666666,
              "#ed7953"
             ],
             [
              0.7777777777777778,
              "#fb9f3a"
             ],
             [
              0.8888888888888888,
              "#fdca26"
             ],
             [
              1,
              "#f0f921"
             ]
            ],
            "type": "contour"
           }
          ],
          "contourcarpet": [
           {
            "colorbar": {
             "outlinewidth": 0,
             "ticks": ""
            },
            "type": "contourcarpet"
           }
          ],
          "heatmap": [
           {
            "colorbar": {
             "outlinewidth": 0,
             "ticks": ""
            },
            "colorscale": [
             [
              0,
              "#0d0887"
             ],
             [
              0.1111111111111111,
              "#46039f"
             ],
             [
              0.2222222222222222,
              "#7201a8"
             ],
             [
              0.3333333333333333,
              "#9c179e"
             ],
             [
              0.4444444444444444,
              "#bd3786"
             ],
             [
              0.5555555555555556,
              "#d8576b"
             ],
             [
              0.6666666666666666,
              "#ed7953"
             ],
             [
              0.7777777777777778,
              "#fb9f3a"
             ],
             [
              0.8888888888888888,
              "#fdca26"
             ],
             [
              1,
              "#f0f921"
             ]
            ],
            "type": "heatmap"
           }
          ],
          "heatmapgl": [
           {
            "colorbar": {
             "outlinewidth": 0,
             "ticks": ""
            },
            "colorscale": [
             [
              0,
              "#0d0887"
             ],
             [
              0.1111111111111111,
              "#46039f"
             ],
             [
              0.2222222222222222,
              "#7201a8"
             ],
             [
              0.3333333333333333,
              "#9c179e"
             ],
             [
              0.4444444444444444,
              "#bd3786"
             ],
             [
              0.5555555555555556,
              "#d8576b"
             ],
             [
              0.6666666666666666,
              "#ed7953"
             ],
             [
              0.7777777777777778,
              "#fb9f3a"
             ],
             [
              0.8888888888888888,
              "#fdca26"
             ],
             [
              1,
              "#f0f921"
             ]
            ],
            "type": "heatmapgl"
           }
          ],
          "histogram": [
           {
            "marker": {
             "pattern": {
              "fillmode": "overlay",
              "size": 10,
              "solidity": 0.2
             }
            },
            "type": "histogram"
           }
          ],
          "histogram2d": [
           {
            "colorbar": {
             "outlinewidth": 0,
             "ticks": ""
            },
            "colorscale": [
             [
              0,
              "#0d0887"
             ],
             [
              0.1111111111111111,
              "#46039f"
             ],
             [
              0.2222222222222222,
              "#7201a8"
             ],
             [
              0.3333333333333333,
              "#9c179e"
             ],
             [
              0.4444444444444444,
              "#bd3786"
             ],
             [
              0.5555555555555556,
              "#d8576b"
             ],
             [
              0.6666666666666666,
              "#ed7953"
             ],
             [
              0.7777777777777778,
              "#fb9f3a"
             ],
             [
              0.8888888888888888,
              "#fdca26"
             ],
             [
              1,
              "#f0f921"
             ]
            ],
            "type": "histogram2d"
           }
          ],
          "histogram2dcontour": [
           {
            "colorbar": {
             "outlinewidth": 0,
             "ticks": ""
            },
            "colorscale": [
             [
              0,
              "#0d0887"
             ],
             [
              0.1111111111111111,
              "#46039f"
             ],
             [
              0.2222222222222222,
              "#7201a8"
             ],
             [
              0.3333333333333333,
              "#9c179e"
             ],
             [
              0.4444444444444444,
              "#bd3786"
             ],
             [
              0.5555555555555556,
              "#d8576b"
             ],
             [
              0.6666666666666666,
              "#ed7953"
             ],
             [
              0.7777777777777778,
              "#fb9f3a"
             ],
             [
              0.8888888888888888,
              "#fdca26"
             ],
             [
              1,
              "#f0f921"
             ]
            ],
            "type": "histogram2dcontour"
           }
          ],
          "mesh3d": [
           {
            "colorbar": {
             "outlinewidth": 0,
             "ticks": ""
            },
            "type": "mesh3d"
           }
          ],
          "parcoords": [
           {
            "line": {
             "colorbar": {
              "outlinewidth": 0,
              "ticks": ""
             }
            },
            "type": "parcoords"
           }
          ],
          "pie": [
           {
            "automargin": true,
            "type": "pie"
           }
          ],
          "scatter": [
           {
            "fillpattern": {
             "fillmode": "overlay",
             "size": 10,
             "solidity": 0.2
            },
            "type": "scatter"
           }
          ],
          "scatter3d": [
           {
            "line": {
             "colorbar": {
              "outlinewidth": 0,
              "ticks": ""
             }
            },
            "marker": {
             "colorbar": {
              "outlinewidth": 0,
              "ticks": ""
             }
            },
            "type": "scatter3d"
           }
          ],
          "scattercarpet": [
           {
            "marker": {
             "colorbar": {
              "outlinewidth": 0,
              "ticks": ""
             }
            },
            "type": "scattercarpet"
           }
          ],
          "scattergeo": [
           {
            "marker": {
             "colorbar": {
              "outlinewidth": 0,
              "ticks": ""
             }
            },
            "type": "scattergeo"
           }
          ],
          "scattergl": [
           {
            "marker": {
             "colorbar": {
              "outlinewidth": 0,
              "ticks": ""
             }
            },
            "type": "scattergl"
           }
          ],
          "scattermapbox": [
           {
            "marker": {
             "colorbar": {
              "outlinewidth": 0,
              "ticks": ""
             }
            },
            "type": "scattermapbox"
           }
          ],
          "scatterpolar": [
           {
            "marker": {
             "colorbar": {
              "outlinewidth": 0,
              "ticks": ""
             }
            },
            "type": "scatterpolar"
           }
          ],
          "scatterpolargl": [
           {
            "marker": {
             "colorbar": {
              "outlinewidth": 0,
              "ticks": ""
             }
            },
            "type": "scatterpolargl"
           }
          ],
          "scatterternary": [
           {
            "marker": {
             "colorbar": {
              "outlinewidth": 0,
              "ticks": ""
             }
            },
            "type": "scatterternary"
           }
          ],
          "surface": [
           {
            "colorbar": {
             "outlinewidth": 0,
             "ticks": ""
            },
            "colorscale": [
             [
              0,
              "#0d0887"
             ],
             [
              0.1111111111111111,
              "#46039f"
             ],
             [
              0.2222222222222222,
              "#7201a8"
             ],
             [
              0.3333333333333333,
              "#9c179e"
             ],
             [
              0.4444444444444444,
              "#bd3786"
             ],
             [
              0.5555555555555556,
              "#d8576b"
             ],
             [
              0.6666666666666666,
              "#ed7953"
             ],
             [
              0.7777777777777778,
              "#fb9f3a"
             ],
             [
              0.8888888888888888,
              "#fdca26"
             ],
             [
              1,
              "#f0f921"
             ]
            ],
            "type": "surface"
           }
          ],
          "table": [
           {
            "cells": {
             "fill": {
              "color": "#EBF0F8"
             },
             "line": {
              "color": "white"
             }
            },
            "header": {
             "fill": {
              "color": "#C8D4E3"
             },
             "line": {
              "color": "white"
             }
            },
            "type": "table"
           }
          ]
         },
         "layout": {
          "annotationdefaults": {
           "arrowcolor": "#2a3f5f",
           "arrowhead": 0,
           "arrowwidth": 1
          },
          "autotypenumbers": "strict",
          "coloraxis": {
           "colorbar": {
            "outlinewidth": 0,
            "ticks": ""
           }
          },
          "colorscale": {
           "diverging": [
            [
             0,
             "#8e0152"
            ],
            [
             0.1,
             "#c51b7d"
            ],
            [
             0.2,
             "#de77ae"
            ],
            [
             0.3,
             "#f1b6da"
            ],
            [
             0.4,
             "#fde0ef"
            ],
            [
             0.5,
             "#f7f7f7"
            ],
            [
             0.6,
             "#e6f5d0"
            ],
            [
             0.7,
             "#b8e186"
            ],
            [
             0.8,
             "#7fbc41"
            ],
            [
             0.9,
             "#4d9221"
            ],
            [
             1,
             "#276419"
            ]
           ],
           "sequential": [
            [
             0,
             "#0d0887"
            ],
            [
             0.1111111111111111,
             "#46039f"
            ],
            [
             0.2222222222222222,
             "#7201a8"
            ],
            [
             0.3333333333333333,
             "#9c179e"
            ],
            [
             0.4444444444444444,
             "#bd3786"
            ],
            [
             0.5555555555555556,
             "#d8576b"
            ],
            [
             0.6666666666666666,
             "#ed7953"
            ],
            [
             0.7777777777777778,
             "#fb9f3a"
            ],
            [
             0.8888888888888888,
             "#fdca26"
            ],
            [
             1,
             "#f0f921"
            ]
           ],
           "sequentialminus": [
            [
             0,
             "#0d0887"
            ],
            [
             0.1111111111111111,
             "#46039f"
            ],
            [
             0.2222222222222222,
             "#7201a8"
            ],
            [
             0.3333333333333333,
             "#9c179e"
            ],
            [
             0.4444444444444444,
             "#bd3786"
            ],
            [
             0.5555555555555556,
             "#d8576b"
            ],
            [
             0.6666666666666666,
             "#ed7953"
            ],
            [
             0.7777777777777778,
             "#fb9f3a"
            ],
            [
             0.8888888888888888,
             "#fdca26"
            ],
            [
             1,
             "#f0f921"
            ]
           ]
          },
          "colorway": [
           "#636efa",
           "#EF553B",
           "#00cc96",
           "#ab63fa",
           "#FFA15A",
           "#19d3f3",
           "#FF6692",
           "#B6E880",
           "#FF97FF",
           "#FECB52"
          ],
          "font": {
           "color": "#2a3f5f"
          },
          "geo": {
           "bgcolor": "white",
           "lakecolor": "white",
           "landcolor": "#E5ECF6",
           "showlakes": true,
           "showland": true,
           "subunitcolor": "white"
          },
          "hoverlabel": {
           "align": "left"
          },
          "hovermode": "closest",
          "mapbox": {
           "style": "light"
          },
          "paper_bgcolor": "white",
          "plot_bgcolor": "#E5ECF6",
          "polar": {
           "angularaxis": {
            "gridcolor": "white",
            "linecolor": "white",
            "ticks": ""
           },
           "bgcolor": "#E5ECF6",
           "radialaxis": {
            "gridcolor": "white",
            "linecolor": "white",
            "ticks": ""
           }
          },
          "scene": {
           "xaxis": {
            "backgroundcolor": "#E5ECF6",
            "gridcolor": "white",
            "gridwidth": 2,
            "linecolor": "white",
            "showbackground": true,
            "ticks": "",
            "zerolinecolor": "white"
           },
           "yaxis": {
            "backgroundcolor": "#E5ECF6",
            "gridcolor": "white",
            "gridwidth": 2,
            "linecolor": "white",
            "showbackground": true,
            "ticks": "",
            "zerolinecolor": "white"
           },
           "zaxis": {
            "backgroundcolor": "#E5ECF6",
            "gridcolor": "white",
            "gridwidth": 2,
            "linecolor": "white",
            "showbackground": true,
            "ticks": "",
            "zerolinecolor": "white"
           }
          },
          "shapedefaults": {
           "line": {
            "color": "#2a3f5f"
           }
          },
          "ternary": {
           "aaxis": {
            "gridcolor": "white",
            "linecolor": "white",
            "ticks": ""
           },
           "baxis": {
            "gridcolor": "white",
            "linecolor": "white",
            "ticks": ""
           },
           "bgcolor": "#E5ECF6",
           "caxis": {
            "gridcolor": "white",
            "linecolor": "white",
            "ticks": ""
           }
          },
          "title": {
           "x": 0.05
          },
          "xaxis": {
           "automargin": true,
           "gridcolor": "white",
           "linecolor": "white",
           "ticks": "",
           "title": {
            "standoff": 15
           },
           "zerolinecolor": "white",
           "zerolinewidth": 2
          },
          "yaxis": {
           "automargin": true,
           "gridcolor": "white",
           "linecolor": "white",
           "ticks": "",
           "title": {
            "standoff": 15
           },
           "zerolinecolor": "white",
           "zerolinewidth": 2
          }
         }
        },
        "xaxis": {
         "anchor": "y",
         "domain": [
          0,
          1
         ],
         "title": {
          "text": "t"
         }
        },
        "yaxis": {
         "anchor": "x",
         "domain": [
          0,
          1
         ],
         "title": {
          "text": "value"
         }
        }
       }
      }
     },
     "metadata": {},
     "output_type": "display_data"
    }
   ],
   "source": [
    "fig = px.bar(df,x='t',y='value', color='x', hover_data=['h'],labels={'h':'h'})\n",
    "fig.update_layout(bargap=0)\n",
    "fig.show()"
   ]
  },
  {
   "cell_type": "code",
   "execution_count": 76,
   "metadata": {},
   "outputs": [
    {
     "data": {
      "application/vnd.plotly.v1+json": {
       "config": {
        "plotlyServerURL": "https://plot.ly"
       },
       "data": [
        {
         "alignmentgroup": "True",
         "customdata": [
          [
           "H1"
          ],
          [
           "H1"
          ],
          [
           "H1"
          ],
          [
           "H1"
          ],
          [
           "H1"
          ],
          [
           "H1"
          ],
          [
           "H1"
          ],
          [
           "H2"
          ],
          [
           "H2"
          ],
          [
           "H2"
          ],
          [
           "H2"
          ],
          [
           "H2"
          ],
          [
           "H2"
          ],
          [
           "H2"
          ],
          [
           "H3"
          ],
          [
           "H3"
          ],
          [
           "H3"
          ],
          [
           "H3"
          ],
          [
           "H3"
          ],
          [
           "H3"
          ],
          [
           "H3"
          ]
         ],
         "hovertemplate": "x=0<br>t=%{x}<br>value=%{y}<br>h=%{customdata[0]}<extra></extra>",
         "legendgroup": "0",
         "marker": {
          "color": "#636efa",
          "pattern": {
           "shape": ""
          }
         },
         "name": "0",
         "offsetgroup": "0",
         "orientation": "v",
         "showlegend": true,
         "textposition": "auto",
         "type": "bar",
         "x": [
          "0",
          "1",
          "2",
          "3",
          "4",
          "5",
          "6",
          "0",
          "1",
          "2",
          "3",
          "4",
          "5",
          "6",
          "0",
          "1",
          "2",
          "3",
          "4",
          "5",
          "6"
         ],
         "xaxis": "x",
         "y": [
          0,
          0,
          0,
          0,
          0,
          0,
          0,
          0,
          0,
          0,
          0,
          1,
          0,
          0,
          0,
          1,
          0,
          0,
          0,
          0,
          0
         ],
         "yaxis": "y"
        },
        {
         "alignmentgroup": "True",
         "customdata": [
          [
           "H1"
          ],
          [
           "H1"
          ],
          [
           "H1"
          ],
          [
           "H1"
          ],
          [
           "H1"
          ],
          [
           "H1"
          ],
          [
           "H1"
          ],
          [
           "H2"
          ],
          [
           "H2"
          ],
          [
           "H2"
          ],
          [
           "H2"
          ],
          [
           "H2"
          ],
          [
           "H2"
          ],
          [
           "H2"
          ],
          [
           "H3"
          ],
          [
           "H3"
          ],
          [
           "H3"
          ],
          [
           "H3"
          ],
          [
           "H3"
          ],
          [
           "H3"
          ],
          [
           "H3"
          ]
         ],
         "hovertemplate": "x=1<br>t=%{x}<br>value=%{y}<br>h=%{customdata[0]}<extra></extra>",
         "legendgroup": "1",
         "marker": {
          "color": "#EF553B",
          "pattern": {
           "shape": ""
          }
         },
         "name": "1",
         "offsetgroup": "1",
         "orientation": "v",
         "showlegend": true,
         "textposition": "auto",
         "type": "bar",
         "x": [
          "0",
          "1",
          "2",
          "3",
          "4",
          "5",
          "6",
          "0",
          "1",
          "2",
          "3",
          "4",
          "5",
          "6",
          "0",
          "1",
          "2",
          "3",
          "4",
          "5",
          "6"
         ],
         "xaxis": "x",
         "y": [
          0,
          0,
          0,
          0,
          0,
          1,
          0,
          0,
          0,
          1,
          0,
          0,
          0,
          0,
          0,
          0,
          0,
          0,
          0,
          0,
          0
         ],
         "yaxis": "y"
        },
        {
         "alignmentgroup": "True",
         "customdata": [
          [
           "H1"
          ],
          [
           "H1"
          ],
          [
           "H1"
          ],
          [
           "H1"
          ],
          [
           "H1"
          ],
          [
           "H1"
          ],
          [
           "H1"
          ],
          [
           "H2"
          ],
          [
           "H2"
          ],
          [
           "H2"
          ],
          [
           "H2"
          ],
          [
           "H2"
          ],
          [
           "H2"
          ],
          [
           "H2"
          ],
          [
           "H3"
          ],
          [
           "H3"
          ],
          [
           "H3"
          ],
          [
           "H3"
          ],
          [
           "H3"
          ],
          [
           "H3"
          ],
          [
           "H3"
          ]
         ],
         "hovertemplate": "x=2<br>t=%{x}<br>value=%{y}<br>h=%{customdata[0]}<extra></extra>",
         "legendgroup": "2",
         "marker": {
          "color": "#00cc96",
          "pattern": {
           "shape": ""
          }
         },
         "name": "2",
         "offsetgroup": "2",
         "orientation": "v",
         "showlegend": true,
         "textposition": "auto",
         "type": "bar",
         "x": [
          "0",
          "1",
          "2",
          "3",
          "4",
          "5",
          "6",
          "0",
          "1",
          "2",
          "3",
          "4",
          "5",
          "6",
          "0",
          "1",
          "2",
          "3",
          "4",
          "5",
          "6"
         ],
         "xaxis": "x",
         "y": [
          0,
          0,
          0,
          0,
          1,
          0,
          0,
          0,
          0,
          0,
          0,
          0,
          0,
          0,
          0,
          1,
          0,
          0,
          0,
          0,
          0
         ],
         "yaxis": "y"
        },
        {
         "alignmentgroup": "True",
         "customdata": [
          [
           "H1"
          ],
          [
           "H1"
          ],
          [
           "H1"
          ],
          [
           "H1"
          ],
          [
           "H1"
          ],
          [
           "H1"
          ],
          [
           "H1"
          ],
          [
           "H2"
          ],
          [
           "H2"
          ],
          [
           "H2"
          ],
          [
           "H2"
          ],
          [
           "H2"
          ],
          [
           "H2"
          ],
          [
           "H2"
          ],
          [
           "H3"
          ],
          [
           "H3"
          ],
          [
           "H3"
          ],
          [
           "H3"
          ],
          [
           "H3"
          ],
          [
           "H3"
          ],
          [
           "H3"
          ]
         ],
         "hovertemplate": "x=3<br>t=%{x}<br>value=%{y}<br>h=%{customdata[0]}<extra></extra>",
         "legendgroup": "3",
         "marker": {
          "color": "#ab63fa",
          "pattern": {
           "shape": ""
          }
         },
         "name": "3",
         "offsetgroup": "3",
         "orientation": "v",
         "showlegend": true,
         "textposition": "auto",
         "type": "bar",
         "x": [
          "0",
          "1",
          "2",
          "3",
          "4",
          "5",
          "6",
          "0",
          "1",
          "2",
          "3",
          "4",
          "5",
          "6",
          "0",
          "1",
          "2",
          "3",
          "4",
          "5",
          "6"
         ],
         "xaxis": "x",
         "y": [
          0,
          1,
          0,
          0,
          0,
          0,
          0,
          0,
          0,
          0,
          0,
          0,
          0,
          0,
          0,
          0,
          0,
          0,
          0,
          0,
          0
         ],
         "yaxis": "y"
        }
       ],
       "layout": {
        "bargap": 0,
        "barmode": "relative",
        "legend": {
         "title": {
          "text": "x"
         },
         "tracegroupgap": 0
        },
        "margin": {
         "t": 60
        },
        "template": {
         "data": {
          "bar": [
           {
            "error_x": {
             "color": "#2a3f5f"
            },
            "error_y": {
             "color": "#2a3f5f"
            },
            "marker": {
             "line": {
              "color": "#E5ECF6",
              "width": 0.5
             },
             "pattern": {
              "fillmode": "overlay",
              "size": 10,
              "solidity": 0.2
             }
            },
            "type": "bar"
           }
          ],
          "barpolar": [
           {
            "marker": {
             "line": {
              "color": "#E5ECF6",
              "width": 0.5
             },
             "pattern": {
              "fillmode": "overlay",
              "size": 10,
              "solidity": 0.2
             }
            },
            "type": "barpolar"
           }
          ],
          "carpet": [
           {
            "aaxis": {
             "endlinecolor": "#2a3f5f",
             "gridcolor": "white",
             "linecolor": "white",
             "minorgridcolor": "white",
             "startlinecolor": "#2a3f5f"
            },
            "baxis": {
             "endlinecolor": "#2a3f5f",
             "gridcolor": "white",
             "linecolor": "white",
             "minorgridcolor": "white",
             "startlinecolor": "#2a3f5f"
            },
            "type": "carpet"
           }
          ],
          "choropleth": [
           {
            "colorbar": {
             "outlinewidth": 0,
             "ticks": ""
            },
            "type": "choropleth"
           }
          ],
          "contour": [
           {
            "colorbar": {
             "outlinewidth": 0,
             "ticks": ""
            },
            "colorscale": [
             [
              0,
              "#0d0887"
             ],
             [
              0.1111111111111111,
              "#46039f"
             ],
             [
              0.2222222222222222,
              "#7201a8"
             ],
             [
              0.3333333333333333,
              "#9c179e"
             ],
             [
              0.4444444444444444,
              "#bd3786"
             ],
             [
              0.5555555555555556,
              "#d8576b"
             ],
             [
              0.6666666666666666,
              "#ed7953"
             ],
             [
              0.7777777777777778,
              "#fb9f3a"
             ],
             [
              0.8888888888888888,
              "#fdca26"
             ],
             [
              1,
              "#f0f921"
             ]
            ],
            "type": "contour"
           }
          ],
          "contourcarpet": [
           {
            "colorbar": {
             "outlinewidth": 0,
             "ticks": ""
            },
            "type": "contourcarpet"
           }
          ],
          "heatmap": [
           {
            "colorbar": {
             "outlinewidth": 0,
             "ticks": ""
            },
            "colorscale": [
             [
              0,
              "#0d0887"
             ],
             [
              0.1111111111111111,
              "#46039f"
             ],
             [
              0.2222222222222222,
              "#7201a8"
             ],
             [
              0.3333333333333333,
              "#9c179e"
             ],
             [
              0.4444444444444444,
              "#bd3786"
             ],
             [
              0.5555555555555556,
              "#d8576b"
             ],
             [
              0.6666666666666666,
              "#ed7953"
             ],
             [
              0.7777777777777778,
              "#fb9f3a"
             ],
             [
              0.8888888888888888,
              "#fdca26"
             ],
             [
              1,
              "#f0f921"
             ]
            ],
            "type": "heatmap"
           }
          ],
          "heatmapgl": [
           {
            "colorbar": {
             "outlinewidth": 0,
             "ticks": ""
            },
            "colorscale": [
             [
              0,
              "#0d0887"
             ],
             [
              0.1111111111111111,
              "#46039f"
             ],
             [
              0.2222222222222222,
              "#7201a8"
             ],
             [
              0.3333333333333333,
              "#9c179e"
             ],
             [
              0.4444444444444444,
              "#bd3786"
             ],
             [
              0.5555555555555556,
              "#d8576b"
             ],
             [
              0.6666666666666666,
              "#ed7953"
             ],
             [
              0.7777777777777778,
              "#fb9f3a"
             ],
             [
              0.8888888888888888,
              "#fdca26"
             ],
             [
              1,
              "#f0f921"
             ]
            ],
            "type": "heatmapgl"
           }
          ],
          "histogram": [
           {
            "marker": {
             "pattern": {
              "fillmode": "overlay",
              "size": 10,
              "solidity": 0.2
             }
            },
            "type": "histogram"
           }
          ],
          "histogram2d": [
           {
            "colorbar": {
             "outlinewidth": 0,
             "ticks": ""
            },
            "colorscale": [
             [
              0,
              "#0d0887"
             ],
             [
              0.1111111111111111,
              "#46039f"
             ],
             [
              0.2222222222222222,
              "#7201a8"
             ],
             [
              0.3333333333333333,
              "#9c179e"
             ],
             [
              0.4444444444444444,
              "#bd3786"
             ],
             [
              0.5555555555555556,
              "#d8576b"
             ],
             [
              0.6666666666666666,
              "#ed7953"
             ],
             [
              0.7777777777777778,
              "#fb9f3a"
             ],
             [
              0.8888888888888888,
              "#fdca26"
             ],
             [
              1,
              "#f0f921"
             ]
            ],
            "type": "histogram2d"
           }
          ],
          "histogram2dcontour": [
           {
            "colorbar": {
             "outlinewidth": 0,
             "ticks": ""
            },
            "colorscale": [
             [
              0,
              "#0d0887"
             ],
             [
              0.1111111111111111,
              "#46039f"
             ],
             [
              0.2222222222222222,
              "#7201a8"
             ],
             [
              0.3333333333333333,
              "#9c179e"
             ],
             [
              0.4444444444444444,
              "#bd3786"
             ],
             [
              0.5555555555555556,
              "#d8576b"
             ],
             [
              0.6666666666666666,
              "#ed7953"
             ],
             [
              0.7777777777777778,
              "#fb9f3a"
             ],
             [
              0.8888888888888888,
              "#fdca26"
             ],
             [
              1,
              "#f0f921"
             ]
            ],
            "type": "histogram2dcontour"
           }
          ],
          "mesh3d": [
           {
            "colorbar": {
             "outlinewidth": 0,
             "ticks": ""
            },
            "type": "mesh3d"
           }
          ],
          "parcoords": [
           {
            "line": {
             "colorbar": {
              "outlinewidth": 0,
              "ticks": ""
             }
            },
            "type": "parcoords"
           }
          ],
          "pie": [
           {
            "automargin": true,
            "type": "pie"
           }
          ],
          "scatter": [
           {
            "fillpattern": {
             "fillmode": "overlay",
             "size": 10,
             "solidity": 0.2
            },
            "type": "scatter"
           }
          ],
          "scatter3d": [
           {
            "line": {
             "colorbar": {
              "outlinewidth": 0,
              "ticks": ""
             }
            },
            "marker": {
             "colorbar": {
              "outlinewidth": 0,
              "ticks": ""
             }
            },
            "type": "scatter3d"
           }
          ],
          "scattercarpet": [
           {
            "marker": {
             "colorbar": {
              "outlinewidth": 0,
              "ticks": ""
             }
            },
            "type": "scattercarpet"
           }
          ],
          "scattergeo": [
           {
            "marker": {
             "colorbar": {
              "outlinewidth": 0,
              "ticks": ""
             }
            },
            "type": "scattergeo"
           }
          ],
          "scattergl": [
           {
            "marker": {
             "colorbar": {
              "outlinewidth": 0,
              "ticks": ""
             }
            },
            "type": "scattergl"
           }
          ],
          "scattermapbox": [
           {
            "marker": {
             "colorbar": {
              "outlinewidth": 0,
              "ticks": ""
             }
            },
            "type": "scattermapbox"
           }
          ],
          "scatterpolar": [
           {
            "marker": {
             "colorbar": {
              "outlinewidth": 0,
              "ticks": ""
             }
            },
            "type": "scatterpolar"
           }
          ],
          "scatterpolargl": [
           {
            "marker": {
             "colorbar": {
              "outlinewidth": 0,
              "ticks": ""
             }
            },
            "type": "scatterpolargl"
           }
          ],
          "scatterternary": [
           {
            "marker": {
             "colorbar": {
              "outlinewidth": 0,
              "ticks": ""
             }
            },
            "type": "scatterternary"
           }
          ],
          "surface": [
           {
            "colorbar": {
             "outlinewidth": 0,
             "ticks": ""
            },
            "colorscale": [
             [
              0,
              "#0d0887"
             ],
             [
              0.1111111111111111,
              "#46039f"
             ],
             [
              0.2222222222222222,
              "#7201a8"
             ],
             [
              0.3333333333333333,
              "#9c179e"
             ],
             [
              0.4444444444444444,
              "#bd3786"
             ],
             [
              0.5555555555555556,
              "#d8576b"
             ],
             [
              0.6666666666666666,
              "#ed7953"
             ],
             [
              0.7777777777777778,
              "#fb9f3a"
             ],
             [
              0.8888888888888888,
              "#fdca26"
             ],
             [
              1,
              "#f0f921"
             ]
            ],
            "type": "surface"
           }
          ],
          "table": [
           {
            "cells": {
             "fill": {
              "color": "#EBF0F8"
             },
             "line": {
              "color": "white"
             }
            },
            "header": {
             "fill": {
              "color": "#C8D4E3"
             },
             "line": {
              "color": "white"
             }
            },
            "type": "table"
           }
          ]
         },
         "layout": {
          "annotationdefaults": {
           "arrowcolor": "#2a3f5f",
           "arrowhead": 0,
           "arrowwidth": 1
          },
          "autotypenumbers": "strict",
          "coloraxis": {
           "colorbar": {
            "outlinewidth": 0,
            "ticks": ""
           }
          },
          "colorscale": {
           "diverging": [
            [
             0,
             "#8e0152"
            ],
            [
             0.1,
             "#c51b7d"
            ],
            [
             0.2,
             "#de77ae"
            ],
            [
             0.3,
             "#f1b6da"
            ],
            [
             0.4,
             "#fde0ef"
            ],
            [
             0.5,
             "#f7f7f7"
            ],
            [
             0.6,
             "#e6f5d0"
            ],
            [
             0.7,
             "#b8e186"
            ],
            [
             0.8,
             "#7fbc41"
            ],
            [
             0.9,
             "#4d9221"
            ],
            [
             1,
             "#276419"
            ]
           ],
           "sequential": [
            [
             0,
             "#0d0887"
            ],
            [
             0.1111111111111111,
             "#46039f"
            ],
            [
             0.2222222222222222,
             "#7201a8"
            ],
            [
             0.3333333333333333,
             "#9c179e"
            ],
            [
             0.4444444444444444,
             "#bd3786"
            ],
            [
             0.5555555555555556,
             "#d8576b"
            ],
            [
             0.6666666666666666,
             "#ed7953"
            ],
            [
             0.7777777777777778,
             "#fb9f3a"
            ],
            [
             0.8888888888888888,
             "#fdca26"
            ],
            [
             1,
             "#f0f921"
            ]
           ],
           "sequentialminus": [
            [
             0,
             "#0d0887"
            ],
            [
             0.1111111111111111,
             "#46039f"
            ],
            [
             0.2222222222222222,
             "#7201a8"
            ],
            [
             0.3333333333333333,
             "#9c179e"
            ],
            [
             0.4444444444444444,
             "#bd3786"
            ],
            [
             0.5555555555555556,
             "#d8576b"
            ],
            [
             0.6666666666666666,
             "#ed7953"
            ],
            [
             0.7777777777777778,
             "#fb9f3a"
            ],
            [
             0.8888888888888888,
             "#fdca26"
            ],
            [
             1,
             "#f0f921"
            ]
           ]
          },
          "colorway": [
           "#636efa",
           "#EF553B",
           "#00cc96",
           "#ab63fa",
           "#FFA15A",
           "#19d3f3",
           "#FF6692",
           "#B6E880",
           "#FF97FF",
           "#FECB52"
          ],
          "font": {
           "color": "#2a3f5f"
          },
          "geo": {
           "bgcolor": "white",
           "lakecolor": "white",
           "landcolor": "#E5ECF6",
           "showlakes": true,
           "showland": true,
           "subunitcolor": "white"
          },
          "hoverlabel": {
           "align": "left"
          },
          "hovermode": "closest",
          "mapbox": {
           "style": "light"
          },
          "paper_bgcolor": "white",
          "plot_bgcolor": "#E5ECF6",
          "polar": {
           "angularaxis": {
            "gridcolor": "white",
            "linecolor": "white",
            "ticks": ""
           },
           "bgcolor": "#E5ECF6",
           "radialaxis": {
            "gridcolor": "white",
            "linecolor": "white",
            "ticks": ""
           }
          },
          "scene": {
           "xaxis": {
            "backgroundcolor": "#E5ECF6",
            "gridcolor": "white",
            "gridwidth": 2,
            "linecolor": "white",
            "showbackground": true,
            "ticks": "",
            "zerolinecolor": "white"
           },
           "yaxis": {
            "backgroundcolor": "#E5ECF6",
            "gridcolor": "white",
            "gridwidth": 2,
            "linecolor": "white",
            "showbackground": true,
            "ticks": "",
            "zerolinecolor": "white"
           },
           "zaxis": {
            "backgroundcolor": "#E5ECF6",
            "gridcolor": "white",
            "gridwidth": 2,
            "linecolor": "white",
            "showbackground": true,
            "ticks": "",
            "zerolinecolor": "white"
           }
          },
          "shapedefaults": {
           "line": {
            "color": "#2a3f5f"
           }
          },
          "ternary": {
           "aaxis": {
            "gridcolor": "white",
            "linecolor": "white",
            "ticks": ""
           },
           "baxis": {
            "gridcolor": "white",
            "linecolor": "white",
            "ticks": ""
           },
           "bgcolor": "#E5ECF6",
           "caxis": {
            "gridcolor": "white",
            "linecolor": "white",
            "ticks": ""
           }
          },
          "title": {
           "x": 0.05
          },
          "xaxis": {
           "automargin": true,
           "gridcolor": "white",
           "linecolor": "white",
           "ticks": "",
           "title": {
            "standoff": 15
           },
           "zerolinecolor": "white",
           "zerolinewidth": 2
          },
          "yaxis": {
           "automargin": true,
           "gridcolor": "white",
           "linecolor": "white",
           "ticks": "",
           "title": {
            "standoff": 15
           },
           "zerolinecolor": "white",
           "zerolinewidth": 2
          }
         }
        },
        "xaxis": {
         "anchor": "y",
         "domain": [
          0,
          1
         ],
         "title": {
          "text": "t"
         }
        },
        "yaxis": {
         "anchor": "x",
         "domain": [
          0,
          1
         ],
         "title": {
          "text": "value"
         }
        }
       }
      }
     },
     "metadata": {},
     "output_type": "display_data"
    }
   ],
   "source": [
    "regex = r\"plant_vegetable_bin\\[(\\w+),(\\w+),(\\w+)\\]\"\n",
    "df = pd.DataFrame(columns=['x','h','t','value'])\n",
    "solution = solutions[4].decision_vars\n",
    "idx = 0 \n",
    "for  key , value in  solution.items():\n",
    "    columns = re.findall(regex, key)\n",
    "    if columns:\n",
    "        columns = columns[0]\n",
    "    else:\n",
    "        continue\n",
    "    df.loc[idx,:] = list(columns) + [value]\n",
    "    idx+=1\n",
    "fig = px.bar(df,x='t',y='value', color='x', hover_data=['h'],labels={'h':'h'})\n",
    "fig.update_layout(bargap=0)\n",
    "fig.show()"
   ]
  },
  {
   "cell_type": "code",
   "execution_count": 17,
   "metadata": {},
   "outputs": [
    {
     "data": {
      "text/plain": [
       "['0', 'H1', '0']"
      ]
     },
     "execution_count": 17,
     "metadata": {},
     "output_type": "execute_result"
    }
   ],
   "source": [
    "plant_vegetable_bin"
   ]
  },
  {
   "cell_type": "code",
   "execution_count": 23,
   "metadata": {},
   "outputs": [
    {
     "data": {
      "text/plain": [
       "{'production': 21.99999999999999, 'demmand': -0.0}"
      ]
     },
     "execution_count": 23,
     "metadata": {},
     "output_type": "execute_result"
    }
   ],
   "source": [
    "solutions[0].obj_values"
   ]
  },
  {
   "cell_type": "code",
   "execution_count": 39,
   "metadata": {},
   "outputs": [
    {
     "name": "stdout",
     "output_type": "stream",
     "text": [
      "Quantity transported from 0 to H1 0: 1.0\n",
      "Quantity transported from 0 to H1 1: 1.0\n",
      "Quantity transported from 0 to H1 2: 1.0\n",
      "Quantity transported from 0 to H1 3: 1.0\n",
      "Quantity transported from 0 to H1 4: 1.0\n",
      "Quantity transported from 0 to H1 5: 1.0\n",
      "Quantity transported from 0 to H1 6: 1.0\n",
      "Quantity transported from 0 to H1 7: 1.0\n",
      "Quantity transported from 0 to H1 8: 1.0\n",
      "Quantity transported from 0 to H1 9: 1.0\n",
      "Quantity transported from 0 to H1 10: 1.0\n",
      "Quantity transported from 0 to H2 0: 0.0\n",
      "Quantity transported from 0 to H2 1: 0.0\n",
      "Quantity transported from 0 to H2 2: 0.0\n",
      "Quantity transported from 0 to H2 3: 0.0\n",
      "Quantity transported from 0 to H2 4: 0.0\n",
      "Quantity transported from 0 to H2 5: 0.0\n",
      "Quantity transported from 0 to H2 6: 0.0\n",
      "Quantity transported from 0 to H2 7: 0.0\n",
      "Quantity transported from 0 to H2 8: 0.0\n",
      "Quantity transported from 0 to H2 9: 0.0\n",
      "Quantity transported from 0 to H2 10: 0.0\n",
      "Quantity transported from 0 to H3 0: 0.0\n",
      "Quantity transported from 0 to H3 1: 0.0\n",
      "Quantity transported from 0 to H3 2: 0.0\n",
      "Quantity transported from 0 to H3 3: 0.0\n",
      "Quantity transported from 0 to H3 4: 0.0\n",
      "Quantity transported from 0 to H3 5: 0.0\n",
      "Quantity transported from 0 to H3 6: 0.0\n",
      "Quantity transported from 0 to H3 7: 0.0\n",
      "Quantity transported from 0 to H3 8: 0.0\n",
      "Quantity transported from 0 to H3 9: 0.0\n",
      "Quantity transported from 0 to H3 10: 0.0\n",
      "Quantity transported from 1 to H1 0: 1.0\n",
      "Quantity transported from 1 to H1 1: 1.0\n",
      "Quantity transported from 1 to H1 2: 1.0\n",
      "Quantity transported from 1 to H1 3: 1.0\n",
      "Quantity transported from 1 to H1 4: 1.0\n",
      "Quantity transported from 1 to H1 5: 1.0\n",
      "Quantity transported from 1 to H1 6: 1.0\n",
      "Quantity transported from 1 to H1 7: 1.0\n",
      "Quantity transported from 1 to H1 8: 1.0\n",
      "Quantity transported from 1 to H1 9: 1.0\n",
      "Quantity transported from 1 to H1 10: 1.0\n",
      "Quantity transported from 1 to H2 0: 0.0\n",
      "Quantity transported from 1 to H2 1: 0.0\n",
      "Quantity transported from 1 to H2 2: 0.0\n",
      "Quantity transported from 1 to H2 3: 0.0\n",
      "Quantity transported from 1 to H2 4: 0.0\n",
      "Quantity transported from 1 to H2 5: 0.0\n",
      "Quantity transported from 1 to H2 6: 0.0\n",
      "Quantity transported from 1 to H2 7: 0.0\n",
      "Quantity transported from 1 to H2 8: 0.0\n",
      "Quantity transported from 1 to H2 9: 0.0\n",
      "Quantity transported from 1 to H2 10: 0.0\n",
      "Quantity transported from 1 to H3 0: 0.0\n",
      "Quantity transported from 1 to H3 1: 0.0\n",
      "Quantity transported from 1 to H3 2: 0.0\n",
      "Quantity transported from 1 to H3 3: 0.0\n",
      "Quantity transported from 1 to H3 4: 0.0\n",
      "Quantity transported from 1 to H3 5: 0.0\n",
      "Quantity transported from 1 to H3 6: 0.0\n",
      "Quantity transported from 1 to H3 7: 0.0\n",
      "Quantity transported from 1 to H3 8: 0.0\n",
      "Quantity transported from 1 to H3 9: 0.0\n",
      "Quantity transported from 1 to H3 10: 0.0\n",
      "Quantity transported from 2 to H1 0: 1.0\n",
      "Quantity transported from 2 to H1 1: 1.0\n",
      "Quantity transported from 2 to H1 2: 1.0\n",
      "Quantity transported from 2 to H1 3: 1.0\n",
      "Quantity transported from 2 to H1 4: 1.0\n",
      "Quantity transported from 2 to H1 5: 1.0\n",
      "Quantity transported from 2 to H1 6: 1.0\n",
      "Quantity transported from 2 to H1 7: 1.0\n",
      "Quantity transported from 2 to H1 8: 1.0\n",
      "Quantity transported from 2 to H1 9: 1.0\n",
      "Quantity transported from 2 to H1 10: 1.0\n",
      "Quantity transported from 2 to H2 0: 0.0\n",
      "Quantity transported from 2 to H2 1: 0.0\n",
      "Quantity transported from 2 to H2 2: 0.0\n",
      "Quantity transported from 2 to H2 3: 0.0\n",
      "Quantity transported from 2 to H2 4: 0.0\n",
      "Quantity transported from 2 to H2 5: 0.0\n",
      "Quantity transported from 2 to H2 6: 0.0\n",
      "Quantity transported from 2 to H2 7: 0.0\n",
      "Quantity transported from 2 to H2 8: 0.0\n",
      "Quantity transported from 2 to H2 9: 0.0\n",
      "Quantity transported from 2 to H2 10: 0.0\n",
      "Quantity transported from 2 to H3 0: 0.0\n",
      "Quantity transported from 2 to H3 1: 0.0\n",
      "Quantity transported from 2 to H3 2: 0.0\n",
      "Quantity transported from 2 to H3 3: 0.0\n",
      "Quantity transported from 2 to H3 4: 0.0\n",
      "Quantity transported from 2 to H3 5: 0.0\n",
      "Quantity transported from 2 to H3 6: 0.0\n",
      "Quantity transported from 2 to H3 7: 0.0\n",
      "Quantity transported from 2 to H3 8: 0.0\n",
      "Quantity transported from 2 to H3 9: 0.0\n",
      "Quantity transported from 2 to H3 10: 0.0\n",
      "Quantity transported from 3 to H1 0: 1.0\n",
      "Quantity transported from 3 to H1 1: 1.0\n",
      "Quantity transported from 3 to H1 2: 1.0\n",
      "Quantity transported from 3 to H1 3: 1.0\n",
      "Quantity transported from 3 to H1 4: 1.0\n",
      "Quantity transported from 3 to H1 5: 1.0\n",
      "Quantity transported from 3 to H1 6: 1.0\n",
      "Quantity transported from 3 to H1 7: 1.0\n",
      "Quantity transported from 3 to H1 8: 1.0\n",
      "Quantity transported from 3 to H1 9: 1.0\n",
      "Quantity transported from 3 to H1 10: 1.0\n",
      "Quantity transported from 3 to H2 0: 0.0\n",
      "Quantity transported from 3 to H2 1: 0.0\n",
      "Quantity transported from 3 to H2 2: 0.0\n",
      "Quantity transported from 3 to H2 3: 0.0\n",
      "Quantity transported from 3 to H2 4: 0.0\n",
      "Quantity transported from 3 to H2 5: 0.0\n",
      "Quantity transported from 3 to H2 6: 0.0\n",
      "Quantity transported from 3 to H2 7: 0.0\n",
      "Quantity transported from 3 to H2 8: 0.0\n",
      "Quantity transported from 3 to H2 9: 0.0\n",
      "Quantity transported from 3 to H2 10: 0.0\n",
      "Quantity transported from 3 to H3 0: 0.0\n",
      "Quantity transported from 3 to H3 1: 0.0\n",
      "Quantity transported from 3 to H3 2: 0.0\n",
      "Quantity transported from 3 to H3 3: 0.0\n",
      "Quantity transported from 3 to H3 4: 0.0\n",
      "Quantity transported from 3 to H3 5: 0.0\n",
      "Quantity transported from 3 to H3 6: 0.0\n",
      "Quantity transported from 3 to H3 7: 0.0\n",
      "Quantity transported from 3 to H3 8: 0.0\n",
      "Quantity transported from 3 to H3 9: 0.0\n",
      "Quantity transported from 3 to H3 10: 0.0\n",
      "Quantity transported from 4 to H1 0: 1.0\n",
      "Quantity transported from 4 to H1 1: 1.0\n",
      "Quantity transported from 4 to H1 2: 1.0\n",
      "Quantity transported from 4 to H1 3: 1.0\n",
      "Quantity transported from 4 to H1 4: 1.0\n",
      "Quantity transported from 4 to H1 5: 1.0\n",
      "Quantity transported from 4 to H1 6: 1.0\n",
      "Quantity transported from 4 to H1 7: 1.0\n",
      "Quantity transported from 4 to H1 8: 1.0\n",
      "Quantity transported from 4 to H1 9: 1.0\n",
      "Quantity transported from 4 to H1 10: 1.0\n",
      "Quantity transported from 4 to H2 0: 0.0\n",
      "Quantity transported from 4 to H2 1: 0.0\n",
      "Quantity transported from 4 to H2 2: 0.0\n",
      "Quantity transported from 4 to H2 3: 0.0\n",
      "Quantity transported from 4 to H2 4: 0.0\n",
      "Quantity transported from 4 to H2 5: 0.0\n",
      "Quantity transported from 4 to H2 6: 0.0\n",
      "Quantity transported from 4 to H2 7: 0.0\n",
      "Quantity transported from 4 to H2 8: 0.0\n",
      "Quantity transported from 4 to H2 9: 0.0\n",
      "Quantity transported from 4 to H2 10: 0.0\n",
      "Quantity transported from 4 to H3 0: 0.0\n",
      "Quantity transported from 4 to H3 1: 0.0\n",
      "Quantity transported from 4 to H3 2: 0.0\n",
      "Quantity transported from 4 to H3 3: 0.0\n",
      "Quantity transported from 4 to H3 4: 0.0\n",
      "Quantity transported from 4 to H3 5: 0.0\n",
      "Quantity transported from 4 to H3 6: 0.0\n",
      "Quantity transported from 4 to H3 7: 0.0\n",
      "Quantity transported from 4 to H3 8: 0.0\n",
      "Quantity transported from 4 to H3 9: 0.0\n",
      "Quantity transported from 4 to H3 10: 0.0\n",
      "Quantity transported from 5 to H1 0: 1.0\n",
      "Quantity transported from 5 to H1 1: 1.0\n",
      "Quantity transported from 5 to H1 2: 1.0\n",
      "Quantity transported from 5 to H1 3: 1.0\n",
      "Quantity transported from 5 to H1 4: 1.0\n",
      "Quantity transported from 5 to H1 5: 1.0\n",
      "Quantity transported from 5 to H1 6: 1.0\n",
      "Quantity transported from 5 to H1 7: 1.0\n",
      "Quantity transported from 5 to H1 8: 1.0\n",
      "Quantity transported from 5 to H1 9: 1.0\n",
      "Quantity transported from 5 to H1 10: 1.0\n",
      "Quantity transported from 5 to H2 0: 0.0\n",
      "Quantity transported from 5 to H2 1: 0.0\n",
      "Quantity transported from 5 to H2 2: 0.0\n",
      "Quantity transported from 5 to H2 3: 0.0\n",
      "Quantity transported from 5 to H2 4: 0.0\n",
      "Quantity transported from 5 to H2 5: 0.0\n",
      "Quantity transported from 5 to H2 6: 0.0\n",
      "Quantity transported from 5 to H2 7: 0.0\n",
      "Quantity transported from 5 to H2 8: 0.0\n",
      "Quantity transported from 5 to H2 9: 0.0\n",
      "Quantity transported from 5 to H2 10: 0.0\n",
      "Quantity transported from 5 to H3 0: 0.0\n",
      "Quantity transported from 5 to H3 1: 0.0\n",
      "Quantity transported from 5 to H3 2: 0.0\n",
      "Quantity transported from 5 to H3 3: 0.0\n",
      "Quantity transported from 5 to H3 4: 0.0\n",
      "Quantity transported from 5 to H3 5: 0.0\n",
      "Quantity transported from 5 to H3 6: 0.0\n",
      "Quantity transported from 5 to H3 7: 0.0\n",
      "Quantity transported from 5 to H3 8: 0.0\n",
      "Quantity transported from 5 to H3 9: 0.0\n",
      "Quantity transported from 5 to H3 10: 0.0\n"
     ]
    }
   ],
   "source": [
    "for x in model.X:\n",
    "    for h in model.VEGETABLES:\n",
    "        for t in model.TIME:\n",
    "            print(f\"Quantity transported from {x} to {h} {t}: {model.scheduling[x, h, t].value}\")"
   ]
  },
  {
   "cell_type": "code",
   "execution_count": 15,
   "metadata": {},
   "outputs": [
    {
     "name": "stdout",
     "output_type": "stream",
     "text": [
      "ERROR: Rule failed when generating expression for Objective CostObjective with\n",
      "index None: AttributeError: 'ConcreteModel' object has no attribute 'Products'\n",
      "ERROR: Constructing component 'CostObjective' from data=None failed:\n",
      "AttributeError: 'ConcreteModel' object has no attribute 'Products'\n"
     ]
    },
    {
     "ename": "AttributeError",
     "evalue": "'ConcreteModel' object has no attribute 'Products'",
     "output_type": "error",
     "traceback": [
      "\u001b[0;31m---------------------------------------------------------------------------\u001b[0m",
      "\u001b[0;31mAttributeError\u001b[0m                            Traceback (most recent call last)",
      "\u001b[1;32m/Users/marnugue/Documents/HIIndustrialSolver/notebooks/foo2.ipynb Cell 5\u001b[0m line \u001b[0;36m1\n\u001b[1;32m      <a href='vscode-notebook-cell:/Users/marnugue/Documents/HIIndustrialSolver/notebooks/foo2.ipynb#W4sZmlsZQ%3D%3D?line=8'>9</a>\u001b[0m \u001b[39mdef\u001b[39;00m \u001b[39mcost_rule\u001b[39m(model):\n\u001b[1;32m     <a href='vscode-notebook-cell:/Users/marnugue/Documents/HIIndustrialSolver/notebooks/foo2.ipynb#W4sZmlsZQ%3D%3D?line=9'>10</a>\u001b[0m     \u001b[39mreturn\u001b[39;00m \u001b[39msum\u001b[39m(model\u001b[39m.\u001b[39mCost[p] \u001b[39m*\u001b[39m model\u001b[39m.\u001b[39mQuantity[p] \u001b[39mfor\u001b[39;00m p \u001b[39min\u001b[39;00m model\u001b[39m.\u001b[39mProducts)\n\u001b[0;32m---> <a href='vscode-notebook-cell:/Users/marnugue/Documents/HIIndustrialSolver/notebooks/foo2.ipynb#W4sZmlsZQ%3D%3D?line=10'>11</a>\u001b[0m model\u001b[39m.\u001b[39;49mCostObjective \u001b[39m=\u001b[39m Objective(rule\u001b[39m=\u001b[39mcost_rule, sense\u001b[39m=\u001b[39mminimize)\n\u001b[1;32m     <a href='vscode-notebook-cell:/Users/marnugue/Documents/HIIndustrialSolver/notebooks/foo2.ipynb#W4sZmlsZQ%3D%3D?line=12'>13</a>\u001b[0m \u001b[39mdef\u001b[39;00m \u001b[39mefficiency_rule\u001b[39m(model):\n\u001b[1;32m     <a href='vscode-notebook-cell:/Users/marnugue/Documents/HIIndustrialSolver/notebooks/foo2.ipynb#W4sZmlsZQ%3D%3D?line=13'>14</a>\u001b[0m     \u001b[39mreturn\u001b[39;00m \u001b[39msum\u001b[39m(model\u001b[39m.\u001b[39mEfficiency[p] \u001b[39m*\u001b[39m model\u001b[39m.\u001b[39mQuantity[p] \u001b[39mfor\u001b[39;00m p \u001b[39min\u001b[39;00m model\u001b[39m.\u001b[39mProducts)\n",
      "File \u001b[0;32m~/Documents/HIIndustrialSolver/.venv/lib/python3.10/site-packages/pyomo/core/base/block.py:580\u001b[0m, in \u001b[0;36m_BlockData.__setattr__\u001b[0;34m(self, name, val)\u001b[0m\n\u001b[1;32m    575\u001b[0m \u001b[39mif\u001b[39;00m name \u001b[39mnot\u001b[39;00m \u001b[39min\u001b[39;00m \u001b[39mself\u001b[39m\u001b[39m.\u001b[39m\u001b[39m__dict__\u001b[39m:\n\u001b[1;32m    576\u001b[0m     \u001b[39mif\u001b[39;00m \u001b[39misinstance\u001b[39m(val, Component):\n\u001b[1;32m    577\u001b[0m         \u001b[39m#\u001b[39;00m\n\u001b[1;32m    578\u001b[0m         \u001b[39m# Pyomo components are added with the add_component method.\u001b[39;00m\n\u001b[1;32m    579\u001b[0m         \u001b[39m#\u001b[39;00m\n\u001b[0;32m--> 580\u001b[0m         \u001b[39mself\u001b[39;49m\u001b[39m.\u001b[39;49madd_component(name, val)\n\u001b[1;32m    581\u001b[0m     \u001b[39melse\u001b[39;00m:\n\u001b[1;32m    582\u001b[0m         \u001b[39m#\u001b[39;00m\n\u001b[1;32m    583\u001b[0m         \u001b[39m# Other Python objects are added with the standard __setattr__\u001b[39;00m\n\u001b[1;32m    584\u001b[0m         \u001b[39m# method.\u001b[39;00m\n\u001b[1;32m    585\u001b[0m         \u001b[39m#\u001b[39;00m\n\u001b[1;32m    586\u001b[0m         \u001b[39msuper\u001b[39m(_BlockData, \u001b[39mself\u001b[39m)\u001b[39m.\u001b[39m\u001b[39m__setattr__\u001b[39m(name, val)\n",
      "File \u001b[0;32m~/Documents/HIIndustrialSolver/.venv/lib/python3.10/site-packages/pyomo/core/base/block.py:1185\u001b[0m, in \u001b[0;36m_BlockData.add_component\u001b[0;34m(self, name, val)\u001b[0m\n\u001b[1;32m   1177\u001b[0m     logger\u001b[39m.\u001b[39mdebug(\n\u001b[1;32m   1178\u001b[0m         \u001b[39m\"\u001b[39m\u001b[39mConstructing \u001b[39m\u001b[39m%s\u001b[39;00m\u001b[39m \u001b[39m\u001b[39m'\u001b[39m\u001b[39m%s\u001b[39;00m\u001b[39m'\u001b[39m\u001b[39m on \u001b[39m\u001b[39m%s\u001b[39;00m\u001b[39m from data=\u001b[39m\u001b[39m%s\u001b[39;00m\u001b[39m\"\u001b[39m,\n\u001b[1;32m   1179\u001b[0m         val\u001b[39m.\u001b[39m\u001b[39m__class__\u001b[39m\u001b[39m.\u001b[39m\u001b[39m__name__\u001b[39m,\n\u001b[0;32m   (...)\u001b[0m\n\u001b[1;32m   1182\u001b[0m         \u001b[39mstr\u001b[39m(data),\n\u001b[1;32m   1183\u001b[0m     )\n\u001b[1;32m   1184\u001b[0m \u001b[39mtry\u001b[39;00m:\n\u001b[0;32m-> 1185\u001b[0m     val\u001b[39m.\u001b[39;49mconstruct(data)\n\u001b[1;32m   1186\u001b[0m \u001b[39mexcept\u001b[39;00m:\n\u001b[1;32m   1187\u001b[0m     err \u001b[39m=\u001b[39m sys\u001b[39m.\u001b[39mexc_info()[\u001b[39m1\u001b[39m]\n",
      "File \u001b[0;32m~/Documents/HIIndustrialSolver/.venv/lib/python3.10/site-packages/pyomo/core/base/objective.py:340\u001b[0m, in \u001b[0;36mObjective.construct\u001b[0;34m(self, data)\u001b[0m\n\u001b[1;32m    337\u001b[0m \u001b[39melse\u001b[39;00m:\n\u001b[1;32m    338\u001b[0m     \u001b[39m# Bypass the index validation and create the member directly\u001b[39;00m\n\u001b[1;32m    339\u001b[0m     \u001b[39mfor\u001b[39;00m index \u001b[39min\u001b[39;00m \u001b[39mself\u001b[39m\u001b[39m.\u001b[39mindex_set():\n\u001b[0;32m--> 340\u001b[0m         ans \u001b[39m=\u001b[39m \u001b[39mself\u001b[39m\u001b[39m.\u001b[39m_setitem_when_not_present(index, rule(block, index))\n\u001b[1;32m    341\u001b[0m         \u001b[39mif\u001b[39;00m ans \u001b[39mis\u001b[39;00m \u001b[39mnot\u001b[39;00m \u001b[39mNone\u001b[39;00m:\n\u001b[1;32m    342\u001b[0m             ans\u001b[39m.\u001b[39mset_sense(\u001b[39mself\u001b[39m\u001b[39m.\u001b[39m_init_sense(block, index))\n",
      "File \u001b[0;32m~/Documents/HIIndustrialSolver/.venv/lib/python3.10/site-packages/pyomo/core/base/initializer.py:435\u001b[0m, in \u001b[0;36mScalarCallInitializer.__call__\u001b[0;34m(self, parent, idx)\u001b[0m\n\u001b[1;32m    434\u001b[0m \u001b[39mdef\u001b[39;00m \u001b[39m__call__\u001b[39m(\u001b[39mself\u001b[39m, parent, idx):\n\u001b[0;32m--> 435\u001b[0m     \u001b[39mreturn\u001b[39;00m \u001b[39mself\u001b[39;49m\u001b[39m.\u001b[39;49m_fcn(parent)\n",
      "\u001b[1;32m/Users/marnugue/Documents/HIIndustrialSolver/notebooks/foo2.ipynb Cell 5\u001b[0m line \u001b[0;36m1\n\u001b[1;32m      <a href='vscode-notebook-cell:/Users/marnugue/Documents/HIIndustrialSolver/notebooks/foo2.ipynb#W4sZmlsZQ%3D%3D?line=8'>9</a>\u001b[0m \u001b[39mdef\u001b[39;00m \u001b[39mcost_rule\u001b[39m(model):\n\u001b[0;32m---> <a href='vscode-notebook-cell:/Users/marnugue/Documents/HIIndustrialSolver/notebooks/foo2.ipynb#W4sZmlsZQ%3D%3D?line=9'>10</a>\u001b[0m     \u001b[39mreturn\u001b[39;00m \u001b[39msum\u001b[39m(model\u001b[39m.\u001b[39mCost[p] \u001b[39m*\u001b[39m model\u001b[39m.\u001b[39mQuantity[p] \u001b[39mfor\u001b[39;00m p \u001b[39min\u001b[39;00m model\u001b[39m.\u001b[39;49mProducts)\n",
      "File \u001b[0;32m~/Documents/HIIndustrialSolver/.venv/lib/python3.10/site-packages/pyomo/core/base/block.py:559\u001b[0m, in \u001b[0;36m_BlockData.__getattr__\u001b[0;34m(self, val)\u001b[0m\n\u001b[1;32m    556\u001b[0m     \u001b[39mreturn\u001b[39;00m _component_decorator(\u001b[39mself\u001b[39m, ModelComponentFactory\u001b[39m.\u001b[39mget_class(val))\n\u001b[1;32m    557\u001b[0m \u001b[39m# Since the base classes don't support getattr, we can just\u001b[39;00m\n\u001b[1;32m    558\u001b[0m \u001b[39m# throw the \"normal\" AttributeError\u001b[39;00m\n\u001b[0;32m--> 559\u001b[0m \u001b[39mraise\u001b[39;00m \u001b[39mAttributeError\u001b[39;00m(\n\u001b[1;32m    560\u001b[0m     \u001b[39m\"\u001b[39m\u001b[39m'\u001b[39m\u001b[39m%s\u001b[39;00m\u001b[39m'\u001b[39m\u001b[39m object has no attribute \u001b[39m\u001b[39m'\u001b[39m\u001b[39m%s\u001b[39;00m\u001b[39m'\u001b[39m\u001b[39m\"\u001b[39m \u001b[39m%\u001b[39m (\u001b[39mself\u001b[39m\u001b[39m.\u001b[39m\u001b[39m__class__\u001b[39m\u001b[39m.\u001b[39m\u001b[39m__name__\u001b[39m, val)\n\u001b[1;32m    561\u001b[0m )\n",
      "\u001b[0;31mAttributeError\u001b[0m: 'ConcreteModel' object has no attribute 'Products'"
     ]
    }
   ],
   "source": [
    "from pyomo.environ import *\n",
    "\n",
    "# Create a concrete model\n",
    "model = ConcreteModel()\n",
    "\n",
    "# Sets, Parameters, Decision Variables, Constraints defined as before...\n",
    "\n",
    "# Objective Functions\n",
    "def cost_rule(model):\n",
    "    return sum(model.Cost[p] * model.Quantity[p] for p in model.Products)\n",
    "model.CostObjective = Objective(rule=cost_rule, sense=minimize)\n",
    "\n",
    "def efficiency_rule(model):\n",
    "    return sum(model.Efficiency[p] * model.Quantity[p] for p in model.Products)\n",
    "model.EfficiencyObjective = Objective(rule=efficiency_rule, sense=maximize)\n",
    "\n",
    "# Solve the multi-objective optimization problem\n",
    "opt = SolverFactory('cbc')\n",
    "opt.solve(model, strategy='nondominated')\n",
    "\n",
    "# Display Results\n",
    "print(\"Optimal Quantities:\")\n",
    "for p in model.Products:\n",
    "    print(f\"{p}: {model.Quantity[p].value}\")\n",
    "\n",
    "print(\"Total Cost:\", model.CostObjective())\n",
    "print(\"Total Efficiency:\", model.EfficiencyObjective())\n"
   ]
  },
  {
   "cell_type": "markdown",
   "metadata": {},
   "source": [
    "# Epsilon implementation/"
   ]
  },
  {
   "cell_type": "code",
   "execution_count": null,
   "metadata": {},
   "outputs": [],
   "source": [
    "from pyomo.environ import *\n",
    "import matplotlib.pyplot as plt\n",
    "\n",
    "\n",
    "# max f1 = X1 <br>\n",
    "# max f2 = 3 X1 + 4 X2 <br>\n",
    "# st  X1 <= 20 <br>\n",
    "#     X2 <= 40 <br>\n",
    "#     5 X1 + 4 X2 <= 200 <br>\n",
    "\n",
    "model = ConcreteModel()\n",
    "\n",
    "model.X1 = Var(within=NonNegativeReals)\n",
    "model.X2 = Var(within=NonNegativeReals)\n",
    "\n",
    "model.C1 = Constraint(expr = model.X1 <= 20)\n",
    "model.C2 = Constraint(expr = model.X2 <= 40)\n",
    "model.C3 = Constraint(expr = 5 * model.X1 + 4 * model.X2 <= 200)\n",
    "\n",
    "model.f1 = Var()\n",
    "model.f2 = Var()\n",
    "model.C_f1 = Constraint(expr= model.f1 == model.X1)\n",
    "model.C_f2 = Constraint(expr= model.f2 == 3 * model.X1 + 4 * model.X2)\n",
    "model.O_f1 = Objective(expr= model.f1  , sense=maximize)\n",
    "model.O_f2 = Objective(expr= model.f2  , sense=maximize)\n",
    "\n",
    "model.O_f2.deactivate()\n",
    "\n",
    "solver = SolverFactory('cplex')\n",
    "solver.solve(model);\n",
    "\n",
    "print( '( X1 , X2 ) = ( ' + str(value(model.X1)) + ' , ' + str(value(model.X2)) + ' )')\n",
    "print( 'f1 = ' + str(value(model.f1)) )\n",
    "print( 'f2 = ' + str(value(model.f2)) )\n",
    "f2_min = value(model.f2)\n",
    "\n",
    "\n",
    "# ## max f2\n",
    "\n",
    "model.O_f2.activate()\n",
    "model.O_f1.deactivate()\n",
    "\n",
    "solver = SolverFactory('cplex')\n",
    "solver.solve(model);\n",
    "\n",
    "print( '( X1 , X2 ) = ( ' + str(value(model.X1)) + ' , ' + str(value(model.X2)) + ' )')\n",
    "print( 'f1 = ' + str(value(model.f1)) )\n",
    "print( 'f2 = ' + str(value(model.f2)) )\n",
    "f2_max = value(model.f2)\n",
    "\n",
    "\n",
    "# ## apply normal $\\epsilon$-Constraint\n",
    "\n",
    "model.O_f1.activate()\n",
    "model.O_f2.deactivate()\n",
    "\n",
    "model.e = Param(initialize=0, mutable=True)\n",
    "\n",
    "model.C_epsilon = Constraint(expr = model.f2 == model.e)\n",
    "\n",
    "solver.solve(model);\n",
    "\n",
    "print('Each iteration will keep f2 lower than some values between f2_min and f2_max, so ['       + str(f2_min) + ', ' + str(f2_max) + ']')\n",
    "\n",
    "n = 4\n",
    "step = int((f2_max - f2_min) / n)\n",
    "steps = list(range(int(f2_min),int(f2_max),step)) + [f2_max]\n",
    "\n",
    "x1_l = []\n",
    "x2_l = []\n",
    "for i in steps:\n",
    "    model.e = i\n",
    "    solver.solve(model);\n",
    "    x1_l.append(value(model.X1))\n",
    "    x2_l.append(value(model.X2))\n",
    "plt.plot(x1_l,x2_l,'o-.');\n",
    "plt.title('inefficient Pareto-front');\n",
    "plt.grid(True);\n",
    "\n",
    "\n",
    "# ## apply augmented $\\epsilon$-Constraint\n",
    "\n",
    "# max   f2 + delta*epsilon <br>\n",
    "#  s.t. f2 - s = e\n",
    "\n",
    "model.del_component(model.O_f1)\n",
    "model.del_component(model.O_f2)\n",
    "model.del_component(model.C_epsilon)\n",
    "\n",
    "model.delta = Param(initialize=0.00001)\n",
    "\n",
    "model.s = Var(within=NonNegativeReals)\n",
    "\n",
    "model.O_f1 = Objective(expr = model.f1 + model.delta * model.s, sense=maximize)\n",
    "\n",
    "model.C_e = Constraint(expr = model.f2 - model.s == model.e)\n",
    "\n",
    "x1_l = []\n",
    "x2_l = []\n",
    "for i in range(160,190,6):\n",
    "    model.e = i\n",
    "    solver.solve(model);\n",
    "    x1_l.append(value(model.X1))\n",
    "    x2_l.append(value(model.X2))\n",
    "plt.plot(x1_l,x2_l,'o-.');\n",
    "plt.title('efficient Pareto-front');\n",
    "plt.grid(True);"
   ]
  }
 ],
 "metadata": {
  "kernelspec": {
   "display_name": ".venv",
   "language": "python",
   "name": "python3"
  },
  "language_info": {
   "codemirror_mode": {
    "name": "ipython",
    "version": 3
   },
   "file_extension": ".py",
   "mimetype": "text/x-python",
   "name": "python",
   "nbconvert_exporter": "python",
   "pygments_lexer": "ipython3",
   "version": "3.12.1"
  }
 },
 "nbformat": 4,
 "nbformat_minor": 2
}
